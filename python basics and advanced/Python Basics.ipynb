{
 "cells": [
  {
   "cell_type": "code",
   "execution_count": 1,
   "id": "946a8cd9",
   "metadata": {},
   "outputs": [
    {
     "name": "stdout",
     "output_type": "stream",
     "text": [
      "[1, 2, 3, 4, 5]\n",
      "<class 'list'>\n"
     ]
    }
   ],
   "source": [
    "# List are containers to store a set of value of any data type.\n",
    "list = [1,2,3,4,5]\n",
    "print(list)\n",
    "print(type(list))"
   ]
  },
  {
   "cell_type": "markdown",
   "id": "d29d2552",
   "metadata": {},
   "source": [
    "# List Indexing"
   ]
  },
  {
   "cell_type": "code",
   "execution_count": 2,
   "id": "7d22c9d7",
   "metadata": {},
   "outputs": [
    {
     "name": "stdout",
     "output_type": "stream",
     "text": [
      "1\n"
     ]
    }
   ],
   "source": [
    "#To access first element (index start from 0)\n",
    "list = [1,2,3,4,5]\n",
    "print(list[0])"
   ]
  },
  {
   "cell_type": "code",
   "execution_count": 3,
   "id": "80205b58",
   "metadata": {},
   "outputs": [
    {
     "name": "stdout",
     "output_type": "stream",
     "text": [
      "[1, 2]\n",
      "[1, 2, 3, 4, 5]\n",
      "[1, 2, 3, 4, 5]\n",
      "[5, 2]\n"
     ]
    }
   ],
   "source": [
    "#List Slicing (index:(index-1))\n",
    "list = [1,2,3,4,5]\n",
    "print(list[0:2])\n",
    "\n",
    "print(list[0:])\n",
    "print(list[:5])\n",
    "print(list[-1::-3])"
   ]
  },
  {
   "cell_type": "markdown",
   "id": "5c5ac949",
   "metadata": {},
   "source": [
    "# List Method"
   ]
  },
  {
   "cell_type": "code",
   "execution_count": 4,
   "id": "2d2cc8d0",
   "metadata": {},
   "outputs": [
    {
     "name": "stdout",
     "output_type": "stream",
     "text": [
      "[1, 2, 3, 4, 5, 45]\n"
     ]
    }
   ],
   "source": [
    "#append method -> will add element add the end of list.\n",
    "list = [1,2,3,4,5]\n",
    "list.append(45)\n",
    "print(list)"
   ]
  },
  {
   "cell_type": "code",
   "execution_count": 5,
   "id": "ea1a5f04",
   "metadata": {},
   "outputs": [
    {
     "name": "stdout",
     "output_type": "stream",
     "text": [
      "11\n"
     ]
    }
   ],
   "source": [
    "#len method -> will print the length of list.\n",
    "list = [1,2,3,4,5,6,7,8,9,10, 11]\n",
    "res = len(list)\n",
    "print(res)"
   ]
  },
  {
   "cell_type": "code",
   "execution_count": 6,
   "id": "fccf337a",
   "metadata": {},
   "outputs": [
    {
     "name": "stdout",
     "output_type": "stream",
     "text": [
      "[1, 2, 3, 4, 8, 9, 10, 23, 56, 57, 83]\n"
     ]
    }
   ],
   "source": [
    "#sorting method -> will sort the elements of a list in ascending order.\n",
    "list = [23,56,83,1,3,57,8,2,4,9,10]\n",
    "list.sort()\n",
    "print(list)"
   ]
  },
  {
   "cell_type": "code",
   "execution_count": 7,
   "id": "130e22f4",
   "metadata": {},
   "outputs": [
    {
     "name": "stdout",
     "output_type": "stream",
     "text": [
      "[10, 9, 4, 2, 8, 57, 3, 1, 83, 56, 23]\n"
     ]
    }
   ],
   "source": [
    "#reverse method -> will reverse the elements of list.\n",
    "list = [23,56,83,1,3,57,8,2,4,9,10]\n",
    "list.reverse()\n",
    "print(list)"
   ]
  },
  {
   "cell_type": "code",
   "execution_count": 8,
   "id": "4dbbe4a0",
   "metadata": {},
   "outputs": [
    {
     "data": {
      "text/plain": [
       "2"
      ]
     },
     "execution_count": 8,
     "metadata": {},
     "output_type": "execute_result"
    }
   ],
   "source": [
    "#count method -> will count the elements of list.\n",
    "list = [23,56,83,1,3,57,8,2,4,9,10,56]\n",
    "list.count(56)"
   ]
  },
  {
   "cell_type": "code",
   "execution_count": 9,
   "id": "4b4752c8",
   "metadata": {},
   "outputs": [
    {
     "data": {
      "text/plain": [
       "83"
      ]
     },
     "execution_count": 9,
     "metadata": {},
     "output_type": "execute_result"
    }
   ],
   "source": [
    "#max method -> return the maximum number of element present in list.\n",
    "list = [23,56,83,1,3,57,8,2,4,9,10]\n",
    "max(list)"
   ]
  },
  {
   "cell_type": "code",
   "execution_count": 10,
   "id": "6348c515",
   "metadata": {},
   "outputs": [
    {
     "data": {
      "text/plain": [
       "1"
      ]
     },
     "execution_count": 10,
     "metadata": {},
     "output_type": "execute_result"
    }
   ],
   "source": [
    "#min method -> return the minimum number of element present in list.\n",
    "list = [23,56,83,1,3,57,8,2,4,9,10]\n",
    "min(list)"
   ]
  },
  {
   "cell_type": "code",
   "execution_count": 11,
   "id": "0f96615b",
   "metadata": {},
   "outputs": [
    {
     "name": "stdout",
     "output_type": "stream",
     "text": [
      "[1, 2, 3, 4, 5, 23, 56, 83]\n"
     ]
    }
   ],
   "source": [
    "#extend method -> Add the elements of list1 to the list.\n",
    "list1 = [1,2,3,4,5]\n",
    "list = [23,56,83]\n",
    "list1.extend(list)\n",
    "print(list1)"
   ]
  },
  {
   "cell_type": "code",
   "execution_count": 12,
   "id": "90f70b96",
   "metadata": {},
   "outputs": [
    {
     "name": "stdout",
     "output_type": "stream",
     "text": [
      "7\n",
      "[1, 2, 3, 34, 45, 67, 89, 90]\n",
      "8\n"
     ]
    }
   ],
   "source": [
    "#insert method -> this will add new element by replacing the old one.\n",
    "list = [1,2,3,45,67,89,90]\n",
    "res = len(list)\n",
    "print(res)\n",
    "list.insert(3,34)\n",
    "print(list)\n",
    "res1 = len(list)\n",
    "print(res1)"
   ]
  },
  {
   "cell_type": "markdown",
   "id": "740f1e8e",
   "metadata": {},
   "source": [
    "# List as a stack"
   ]
  },
  {
   "cell_type": "code",
   "execution_count": 13,
   "id": "1f000384",
   "metadata": {},
   "outputs": [
    {
     "name": "stdout",
     "output_type": "stream",
     "text": [
      "[2, 3, 4, 5, 45]\n",
      "[2, 3, 5, 45]\n"
     ]
    },
    {
     "data": {
      "text/plain": [
       "[2, 3, 5]"
      ]
     },
     "execution_count": 13,
     "metadata": {},
     "output_type": "execute_result"
    }
   ],
   "source": [
    "stack = [2,3,4,5]\n",
    "stack.append(45)\n",
    "print(stack)\n",
    "stack.pop(2)\n",
    "print(stack)\n",
    "stack.pop()\n",
    "stack"
   ]
  },
  {
   "cell_type": "markdown",
   "id": "68e1f209",
   "metadata": {},
   "source": [
    "# List as a Queue"
   ]
  },
  {
   "cell_type": "code",
   "execution_count": 14,
   "id": "c9f6280d",
   "metadata": {},
   "outputs": [
    {
     "data": {
      "text/plain": [
       "deque(['Apple', 'Mango', 'Banana', 'Litchi', 'Kiwi'])"
      ]
     },
     "execution_count": 14,
     "metadata": {},
     "output_type": "execute_result"
    }
   ],
   "source": [
    "from collections import deque\n",
    "queue = deque([\"Apple\", \"Mango\", \"Banana\", \"Litchi\"])\n",
    "queue.append(\"Kiwi\")\n",
    "queue"
   ]
  },
  {
   "cell_type": "code",
   "execution_count": 15,
   "id": "b61b1f0e",
   "metadata": {},
   "outputs": [
    {
     "data": {
      "text/plain": [
       "deque(['Mango', 'Banana', 'Litchi', 'Kiwi'])"
      ]
     },
     "execution_count": 15,
     "metadata": {},
     "output_type": "execute_result"
    }
   ],
   "source": [
    "queue.popleft()\n",
    "queue"
   ]
  },
  {
   "cell_type": "code",
   "execution_count": 16,
   "id": "3e3bef61",
   "metadata": {},
   "outputs": [
    {
     "data": {
      "text/plain": [
       "'Mango'"
      ]
     },
     "execution_count": 16,
     "metadata": {},
     "output_type": "execute_result"
    }
   ],
   "source": [
    "queue.popleft()"
   ]
  },
  {
   "cell_type": "markdown",
   "id": "d7c26b29",
   "metadata": {},
   "source": [
    "# List Comprehension."
   ]
  },
  {
   "cell_type": "code",
   "execution_count": 17,
   "id": "e9723d92",
   "metadata": {},
   "outputs": [
    {
     "name": "stdout",
     "output_type": "stream",
     "text": [
      "['Orange', 'Banana', 'Custard Apple']\n"
     ]
    }
   ],
   "source": [
    "list = [\"Orange\", \"Apple\", \"Banana\", \"Kiwi\", \"Custard Apple\", \"Melon\", \"Apricot\"]\n",
    "listwith_a = [item for item in list if \"a\" in item]\n",
    "print(listwith_a)"
   ]
  },
  {
   "cell_type": "code",
   "execution_count": 18,
   "id": "1601c23c",
   "metadata": {},
   "outputs": [
    {
     "name": "stdout",
     "output_type": "stream",
     "text": [
      "['Milo', 'Bruno', 'Rosa']\n"
     ]
    }
   ],
   "source": [
    "names = [\"Milo\", \"Sarah\", \"Bruno\", \"Anastasia\", \"Rosa\"]\n",
    "namesWith_O = [item for item in names if \"o\" in item]\n",
    "print(namesWith_O)"
   ]
  },
  {
   "cell_type": "code",
   "execution_count": 19,
   "id": "3fc50639",
   "metadata": {},
   "outputs": [
    {
     "name": "stdout",
     "output_type": "stream",
     "text": [
      "['Sarah', 'Bruno', 'Anastasia']\n"
     ]
    }
   ],
   "source": [
    "names = [\"Milo\", \"Sarah\", \"Bruno\", \"Anastasia\", \"Rosa\"]\n",
    "namesWith_O = [item for item in names if (len(item) > 4)]\n",
    "print(namesWith_O)"
   ]
  },
  {
   "cell_type": "code",
   "execution_count": 20,
   "id": "89a49680",
   "metadata": {},
   "outputs": [
    {
     "name": "stdout",
     "output_type": "stream",
     "text": [
      "[1, 4, 9, 16]\n"
     ]
    }
   ],
   "source": [
    "x = [1,2,3,4]\n",
    "out = []\n",
    "for i in x:\n",
    "    out.append(i**2)\n",
    "print(out)"
   ]
  },
  {
   "cell_type": "code",
   "execution_count": 21,
   "id": "11e3c951",
   "metadata": {},
   "outputs": [
    {
     "data": {
      "text/plain": [
       "[1, 4, 9, 16]"
      ]
     },
     "execution_count": 21,
     "metadata": {},
     "output_type": "execute_result"
    }
   ],
   "source": [
    "out1 = [i**2 for i in x]\n",
    "out1"
   ]
  },
  {
   "cell_type": "code",
   "execution_count": 22,
   "id": "c725c927",
   "metadata": {},
   "outputs": [
    {
     "name": "stdout",
     "output_type": "stream",
     "text": [
      "0\n",
      "1\n",
      "2\n",
      "3\n",
      "4\n"
     ]
    }
   ],
   "source": [
    "#List using range function.\n",
    "for x in range(0,5):\n",
    "    print(x)"
   ]
  },
  {
   "cell_type": "code",
   "execution_count": 23,
   "id": "f656688e",
   "metadata": {},
   "outputs": [
    {
     "data": {
      "text/plain": [
       "range(0, 5)"
      ]
     },
     "execution_count": 23,
     "metadata": {},
     "output_type": "execute_result"
    }
   ],
   "source": [
    "range(5)"
   ]
  },
  {
   "cell_type": "code",
   "execution_count": 24,
   "id": "88c41a72",
   "metadata": {},
   "outputs": [
    {
     "ename": "TypeError",
     "evalue": "'list' object is not callable",
     "output_type": "error",
     "traceback": [
      "\u001b[1;31m---------------------------------------------------------------------------\u001b[0m",
      "\u001b[1;31mTypeError\u001b[0m                                 Traceback (most recent call last)",
      "Cell \u001b[1;32mIn [24], line 1\u001b[0m\n\u001b[1;32m----> 1\u001b[0m \u001b[38;5;28;43mlist\u001b[39;49m\u001b[43m(\u001b[49m\u001b[38;5;28;43mrange\u001b[39;49m\u001b[43m(\u001b[49m\u001b[38;5;241;43m10\u001b[39;49m\u001b[43m)\u001b[49m\u001b[43m)\u001b[49m\n",
      "\u001b[1;31mTypeError\u001b[0m: 'list' object is not callable"
     ]
    }
   ],
   "source": [
    "list(range(10))"
   ]
  },
  {
   "cell_type": "markdown",
   "id": "dc4e0ee8",
   "metadata": {},
   "source": [
    "# Tuples"
   ]
  },
  {
   "cell_type": "code",
   "execution_count": null,
   "id": "f6032ae5",
   "metadata": {},
   "outputs": [],
   "source": [
    "#Tuple is an immutable data type in python.\n",
    "a = (1,2,3,4,5, 2, 3, 4,5 )\n",
    "a"
   ]
  },
  {
   "cell_type": "code",
   "execution_count": null,
   "id": "f8a74afe",
   "metadata": {},
   "outputs": [],
   "source": [
    "a.count(2)"
   ]
  },
  {
   "cell_type": "code",
   "execution_count": null,
   "id": "8f401cd1",
   "metadata": {},
   "outputs": [],
   "source": [
    "a.index(2)"
   ]
  },
  {
   "cell_type": "code",
   "execution_count": null,
   "id": "4eb8addd",
   "metadata": {},
   "outputs": [],
   "source": [
    "a[0]"
   ]
  },
  {
   "cell_type": "code",
   "execution_count": null,
   "id": "568c1d65",
   "metadata": {},
   "outputs": [],
   "source": [
    "a[4]"
   ]
  },
  {
   "cell_type": "code",
   "execution_count": null,
   "id": "1837cde3",
   "metadata": {},
   "outputs": [],
   "source": [
    "a[:]"
   ]
  },
  {
   "cell_type": "markdown",
   "id": "95e5f710",
   "metadata": {},
   "source": [
    "# Dictionary"
   ]
  },
  {
   "cell_type": "code",
   "execution_count": null,
   "id": "59834586",
   "metadata": {},
   "outputs": [],
   "source": [
    "#Dictionary is a collection of key-value pairs.\n",
    "a = {\"Very slow\" : \"Sluggish\",\n",
    "    \"Very Hungry\" : \"Famished\",\n",
    "    \"Very Small\" : \"Breif\",\n",
    "    \"Very Important\" : \"Crucial\",\n",
    "    \"Very Talented\" : \"Gifted\",\n",
    "    \"Very Thin\" : \"Slender\",\n",
    "    \"Very Poor\" : \"Destitute\",\n",
    "    \"Very Quick\" : \"Rapid\",\n",
    "    \"Very Impressive\" : \"Extraordinary\",\n",
    "    \"Very Afraid\" : \"Terrified\",\n",
    "    \"Very Dirty\" : \"Filthy\",\n",
    "    \"Very Old\" : \"Ancient\",\n",
    "    \"Very Excited\" : \"Thrilled\"}\n",
    "\n",
    "a.items()\n",
    "a.keys()\n",
    "del a[\"Very Quick\"]\n",
    "a.keys()"
   ]
  },
  {
   "cell_type": "code",
   "execution_count": null,
   "id": "02c878ac",
   "metadata": {},
   "outputs": [],
   "source": [
    "\"Very Poor\" in a"
   ]
  },
  {
   "cell_type": "code",
   "execution_count": null,
   "id": "5d0ad7c7",
   "metadata": {},
   "outputs": [],
   "source": [
    "\"Ancient\" not in a"
   ]
  },
  {
   "cell_type": "code",
   "execution_count": null,
   "id": "c368974a",
   "metadata": {},
   "outputs": [],
   "source": [
    "list(a)"
   ]
  },
  {
   "cell_type": "code",
   "execution_count": null,
   "id": "512a15f8",
   "metadata": {},
   "outputs": [],
   "source": [
    "sorted(a)"
   ]
  },
  {
   "cell_type": "code",
   "execution_count": null,
   "id": "31431aaf",
   "metadata": {},
   "outputs": [],
   "source": [
    "a.values()"
   ]
  },
  {
   "cell_type": "markdown",
   "id": "e23a6615",
   "metadata": {},
   "source": [
    "# Sets"
   ]
  },
  {
   "cell_type": "code",
   "execution_count": null,
   "id": "78116bb4",
   "metadata": {},
   "outputs": [],
   "source": [
    "#Set is a collection of unique elements.\n",
    "s = {1,2,2,2,2,3,3,3,3,4,4,4,4,5,5,5,5,5}\n",
    "s"
   ]
  },
  {
   "cell_type": "code",
   "execution_count": null,
   "id": "be2888d4",
   "metadata": {},
   "outputs": [],
   "source": [
    "len(s)"
   ]
  },
  {
   "cell_type": "code",
   "execution_count": null,
   "id": "a6d8ef95",
   "metadata": {},
   "outputs": [],
   "source": [
    "s.remove(2)"
   ]
  },
  {
   "cell_type": "code",
   "execution_count": null,
   "id": "fe868c8c",
   "metadata": {},
   "outputs": [],
   "source": [
    "s"
   ]
  },
  {
   "cell_type": "code",
   "execution_count": null,
   "id": "850cab24",
   "metadata": {},
   "outputs": [],
   "source": [
    "s.pop()"
   ]
  },
  {
   "cell_type": "code",
   "execution_count": null,
   "id": "9b45735a",
   "metadata": {},
   "outputs": [],
   "source": [
    "s.union({1,5})"
   ]
  },
  {
   "cell_type": "markdown",
   "id": "63b0c1b9",
   "metadata": {},
   "source": [
    "# Function"
   ]
  },
  {
   "cell_type": "code",
   "execution_count": null,
   "id": "720dace3",
   "metadata": {},
   "outputs": [],
   "source": [
    "def square(num):\n",
    "    '''\n",
    "    THIS IS A DOCSTRING\n",
    "    CAN GO WITH MULTIPLE LINES.\n",
    "    '''\n",
    "    return(num**2)\n",
    "\n",
    "output = square(4)"
   ]
  },
  {
   "cell_type": "code",
   "execution_count": null,
   "id": "d2eaaef2",
   "metadata": {},
   "outputs": [],
   "source": [
    "output"
   ]
  },
  {
   "cell_type": "markdown",
   "id": "95d30040",
   "metadata": {},
   "source": [
    "# Map ,Filter and Lambda "
   ]
  },
  {
   "cell_type": "code",
   "execution_count": null,
   "id": "8b46f464",
   "metadata": {},
   "outputs": [],
   "source": [
    "def square(num):\n",
    "    return num**2\n",
    "square(2)"
   ]
  },
  {
   "cell_type": "code",
   "execution_count": null,
   "id": "27f14362",
   "metadata": {},
   "outputs": [],
   "source": [
    "seq = [1,2,3,4,5,6,7]\n",
    "list(map(square, seq))"
   ]
  },
  {
   "cell_type": "code",
   "execution_count": null,
   "id": "98854251",
   "metadata": {},
   "outputs": [],
   "source": [
    "lambda var:var*2"
   ]
  },
  {
   "cell_type": "code",
   "execution_count": null,
   "id": "2ac184e2",
   "metadata": {},
   "outputs": [],
   "source": [
    "list(map(lambda var : var*2, seq))"
   ]
  },
  {
   "cell_type": "code",
   "execution_count": null,
   "id": "06af695a",
   "metadata": {},
   "outputs": [],
   "source": [
    "filter(lambda i : i%2 == 0, seq)"
   ]
  },
  {
   "cell_type": "code",
   "execution_count": null,
   "id": "9408e8b1",
   "metadata": {},
   "outputs": [],
   "source": [
    "list(filter(lambda i : i%2 == 0, seq))"
   ]
  },
  {
   "cell_type": "markdown",
   "id": "7262e230",
   "metadata": {},
   "source": [
    "# String"
   ]
  },
  {
   "cell_type": "code",
   "execution_count": null,
   "id": "c9c10091",
   "metadata": {},
   "outputs": [],
   "source": [
    "s = \"Different types of string methods\"\n",
    "s.lower()"
   ]
  },
  {
   "cell_type": "code",
   "execution_count": null,
   "id": "22a97a0a",
   "metadata": {},
   "outputs": [],
   "source": [
    "s.upper()\n"
   ]
  },
  {
   "cell_type": "code",
   "execution_count": null,
   "id": "171fb745",
   "metadata": {},
   "outputs": [],
   "source": [
    "s.find(\"e\")"
   ]
  },
  {
   "cell_type": "code",
   "execution_count": null,
   "id": "89508fa9",
   "metadata": {},
   "outputs": [],
   "source": [
    "s."
   ]
  },
  {
   "cell_type": "code",
   "execution_count": null,
   "id": "1de1f7d2",
   "metadata": {},
   "outputs": [],
   "source": [
    "x = [(1,2), (3,4), (5, 6)]\n"
   ]
  },
  {
   "cell_type": "code",
   "execution_count": null,
   "id": "4d277c50",
   "metadata": {},
   "outputs": [],
   "source": [
    "for item in x:\n",
    "    print(item)"
   ]
  },
  {
   "cell_type": "code",
   "execution_count": null,
   "id": "8ad12371",
   "metadata": {},
   "outputs": [],
   "source": [
    "for (a,b) in x:\n",
    "    print(a)\n",
    "    print(b)"
   ]
  }
 ],
 "metadata": {
  "kernelspec": {
   "display_name": "Python 3 (ipykernel)",
   "language": "python",
   "name": "python3"
  },
  "language_info": {
   "codemirror_mode": {
    "name": "ipython",
    "version": 3
   },
   "file_extension": ".py",
   "mimetype": "text/x-python",
   "name": "python",
   "nbconvert_exporter": "python",
   "pygments_lexer": "ipython3",
   "version": "3.10.1"
  }
 },
 "nbformat": 4,
 "nbformat_minor": 5
}
