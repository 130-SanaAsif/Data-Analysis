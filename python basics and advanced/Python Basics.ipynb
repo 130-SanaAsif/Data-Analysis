{
 "cells": [
  {
   "cell_type": "code",
   "execution_count": 1,
   "id": "946a8cd9",
   "metadata": {},
   "outputs": [
    {
     "name": "stdout",
     "output_type": "stream",
     "text": [
      "[1, 2, 3, 4, 5]\n",
      "<class 'list'>\n"
     ]
    }
   ],
   "source": [
    "# List are containers to store a set of value of any data type.\n",
    "list = [1,2,3,4,5]\n",
    "print(list)\n",
    "print(type(list))"
   ]
  },
  {
   "cell_type": "markdown",
   "id": "d29d2552",
   "metadata": {},
   "source": [
    "# List Indexing"
   ]
  },
  {
   "cell_type": "code",
   "execution_count": 2,
   "id": "7d22c9d7",
   "metadata": {},
   "outputs": [
    {
     "name": "stdout",
     "output_type": "stream",
     "text": [
      "1\n"
     ]
    }
   ],
   "source": [
    "#To access first element (index start from 0)\n",
    "list = [1,2,3,4,5]\n",
    "print(list[0])"
   ]
  },
  {
   "cell_type": "code",
   "execution_count": 3,
   "id": "80205b58",
   "metadata": {},
   "outputs": [
    {
     "name": "stdout",
     "output_type": "stream",
     "text": [
      "[1, 2]\n",
      "[1, 2, 3, 4, 5]\n",
      "[1, 2, 3, 4, 5]\n",
      "[5, 2]\n"
     ]
    }
   ],
   "source": [
    "#List Slicing (index:(index-1))\n",
    "list = [1,2,3,4,5]\n",
    "print(list[0:2])\n",
    "\n",
    "print(list[0:])\n",
    "print(list[:5])\n",
    "print(list[-1::-3])"
   ]
  },
  {
   "cell_type": "markdown",
   "id": "5c5ac949",
   "metadata": {},
   "source": [
    "# List Method"
   ]
  },
  {
   "cell_type": "code",
   "execution_count": 4,
   "id": "2d2cc8d0",
   "metadata": {},
   "outputs": [
    {
     "name": "stdout",
     "output_type": "stream",
     "text": [
      "[1, 2, 3, 4, 5, 45]\n"
     ]
    }
   ],
   "source": [
    "#append method -> will add element add the end of list.\n",
    "list = [1,2,3,4,5]\n",
    "list.append(45)\n",
    "print(list)"
   ]
  },
  {
   "cell_type": "code",
   "execution_count": 5,
   "id": "ea1a5f04",
   "metadata": {},
   "outputs": [
    {
     "name": "stdout",
     "output_type": "stream",
     "text": [
      "11\n"
     ]
    }
   ],
   "source": [
    "#len method -> will print the length of list.\n",
    "list = [1,2,3,4,5,6,7,8,9,10, 11]\n",
    "res = len(list)\n",
    "print(res)"
   ]
  },
  {
   "cell_type": "code",
   "execution_count": 6,
   "id": "fccf337a",
   "metadata": {},
   "outputs": [
    {
     "name": "stdout",
     "output_type": "stream",
     "text": [
      "[1, 2, 3, 4, 8, 9, 10, 23, 56, 57, 83]\n"
     ]
    }
   ],
   "source": [
    "#sorting method -> will sort the elements of a list in ascending order.\n",
    "list = [23,56,83,1,3,57,8,2,4,9,10]\n",
    "list.sort()\n",
    "print(list)"
   ]
  },
  {
   "cell_type": "code",
   "execution_count": 7,
   "id": "130e22f4",
   "metadata": {},
   "outputs": [
    {
     "name": "stdout",
     "output_type": "stream",
     "text": [
      "[10, 9, 4, 2, 8, 57, 3, 1, 83, 56, 23]\n"
     ]
    }
   ],
   "source": [
    "#reverse method -> will reverse the elements of list.\n",
    "list = [23,56,83,1,3,57,8,2,4,9,10]\n",
    "list.reverse()\n",
    "print(list)"
   ]
  },
  {
   "cell_type": "code",
   "execution_count": 8,
   "id": "4dbbe4a0",
   "metadata": {},
   "outputs": [
    {
     "data": {
      "text/plain": [
       "2"
      ]
     },
     "execution_count": 8,
     "metadata": {},
     "output_type": "execute_result"
    }
   ],
   "source": [
    "#count method -> will count the elements of list.\n",
    "list = [23,56,83,1,3,57,8,2,4,9,10,56]\n",
    "list.count(56)"
   ]
  },
  {
   "cell_type": "code",
   "execution_count": 9,
   "id": "4b4752c8",
   "metadata": {},
   "outputs": [
    {
     "data": {
      "text/plain": [
       "83"
      ]
     },
     "execution_count": 9,
     "metadata": {},
     "output_type": "execute_result"
    }
   ],
   "source": [
    "#max method -> return the maximum number of element present in list.\n",
    "list = [23,56,83,1,3,57,8,2,4,9,10]\n",
    "max(list)"
   ]
  },
  {
   "cell_type": "code",
   "execution_count": 10,
   "id": "6348c515",
   "metadata": {},
   "outputs": [
    {
     "data": {
      "text/plain": [
       "1"
      ]
     },
     "execution_count": 10,
     "metadata": {},
     "output_type": "execute_result"
    }
   ],
   "source": [
    "#min method -> return the minimum number of element present in list.\n",
    "list = [23,56,83,1,3,57,8,2,4,9,10]\n",
    "min(list)"
   ]
  },
  {
   "cell_type": "code",
   "execution_count": 11,
   "id": "0f96615b",
   "metadata": {},
   "outputs": [
    {
     "name": "stdout",
     "output_type": "stream",
     "text": [
      "[1, 2, 3, 4, 5, 23, 56, 83]\n"
     ]
    }
   ],
   "source": [
    "#extend method -> Add the elements of list1 to the list.\n",
    "list1 = [1,2,3,4,5]\n",
    "list = [23,56,83]\n",
    "list1.extend(list)\n",
    "print(list1)"
   ]
  },
  {
   "cell_type": "code",
   "execution_count": 12,
   "id": "90f70b96",
   "metadata": {},
   "outputs": [
    {
     "name": "stdout",
     "output_type": "stream",
     "text": [
      "7\n",
      "[1, 2, 3, 34, 45, 67, 89, 90]\n",
      "8\n"
     ]
    }
   ],
   "source": [
    "#insert method -> this will add new element by replacing the old one.\n",
    "list = [1,2,3,45,67,89,90]\n",
    "res = len(list)\n",
    "print(res)\n",
    "list.insert(3,34)\n",
    "print(list)\n",
    "res1 = len(list)\n",
    "print(res1)"
   ]
  },
  {
   "cell_type": "markdown",
   "id": "740f1e8e",
   "metadata": {},
   "source": [
    "# List as a stack"
   ]
  },
  {
   "cell_type": "code",
   "execution_count": 13,
   "id": "1f000384",
   "metadata": {},
   "outputs": [
    {
     "name": "stdout",
     "output_type": "stream",
     "text": [
      "[2, 3, 4, 5, 45]\n",
      "[2, 3, 5, 45]\n"
     ]
    },
    {
     "data": {
      "text/plain": [
       "[2, 3, 5]"
      ]
     },
     "execution_count": 13,
     "metadata": {},
     "output_type": "execute_result"
    }
   ],
   "source": [
    "stack = [2,3,4,5]\n",
    "stack.append(45)\n",
    "print(stack)\n",
    "stack.pop(2)\n",
    "print(stack)\n",
    "stack.pop()\n",
    "stack"
   ]
  },
  {
   "cell_type": "markdown",
   "id": "68e1f209",
   "metadata": {},
   "source": [
    "# List as a Queue"
   ]
  },
  {
   "cell_type": "code",
   "execution_count": 14,
   "id": "c9f6280d",
   "metadata": {},
   "outputs": [
    {
     "data": {
      "text/plain": [
       "deque(['Apple', 'Mango', 'Banana', 'Litchi', 'Kiwi'])"
      ]
     },
     "execution_count": 14,
     "metadata": {},
     "output_type": "execute_result"
    }
   ],
   "source": [
    "from collections import deque\n",
    "queue = deque([\"Apple\", \"Mango\", \"Banana\", \"Litchi\"])\n",
    "queue.append(\"Kiwi\")\n",
    "queue"
   ]
  },
  {
   "cell_type": "code",
   "execution_count": 15,
   "id": "b61b1f0e",
   "metadata": {},
   "outputs": [
    {
     "data": {
      "text/plain": [
       "deque(['Mango', 'Banana', 'Litchi', 'Kiwi'])"
      ]
     },
     "execution_count": 15,
     "metadata": {},
     "output_type": "execute_result"
    }
   ],
   "source": [
    "queue.popleft()\n",
    "queue"
   ]
  },
  {
   "cell_type": "code",
   "execution_count": 16,
   "id": "3e3bef61",
   "metadata": {},
   "outputs": [
    {
     "data": {
      "text/plain": [
       "'Mango'"
      ]
     },
     "execution_count": 16,
     "metadata": {},
     "output_type": "execute_result"
    }
   ],
   "source": [
    "queue.popleft()"
   ]
  },
  {
   "cell_type": "markdown",
   "id": "d7c26b29",
   "metadata": {},
   "source": [
    "# List Comprehension."
   ]
  },
  {
   "cell_type": "code",
   "execution_count": 17,
   "id": "e9723d92",
   "metadata": {},
   "outputs": [
    {
     "name": "stdout",
     "output_type": "stream",
     "text": [
      "['Orange', 'Banana', 'Custard Apple']\n"
     ]
    }
   ],
   "source": [
    "list = [\"Orange\", \"Apple\", \"Banana\", \"Kiwi\", \"Custard Apple\", \"Melon\", \"Apricot\"]\n",
    "listwith_a = [item for item in list if \"a\" in item]\n",
    "print(listwith_a)"
   ]
  },
  {
   "cell_type": "code",
   "execution_count": 18,
   "id": "1601c23c",
   "metadata": {},
   "outputs": [
    {
     "name": "stdout",
     "output_type": "stream",
     "text": [
      "['Milo', 'Bruno', 'Rosa']\n"
     ]
    }
   ],
   "source": [
    "names = [\"Milo\", \"Sarah\", \"Bruno\", \"Anastasia\", \"Rosa\"]\n",
    "namesWith_O = [item for item in names if \"o\" in item]\n",
    "print(namesWith_O)"
   ]
  },
  {
   "cell_type": "code",
   "execution_count": 19,
   "id": "3fc50639",
   "metadata": {},
   "outputs": [
    {
     "name": "stdout",
     "output_type": "stream",
     "text": [
      "['Sarah', 'Bruno', 'Anastasia']\n"
     ]
    }
   ],
   "source": [
    "names = [\"Milo\", \"Sarah\", \"Bruno\", \"Anastasia\", \"Rosa\"]\n",
    "namesWith_O = [item for item in names if (len(item) > 4)]\n",
    "print(namesWith_O)"
   ]
  },
  {
   "cell_type": "code",
   "execution_count": 20,
   "id": "89a49680",
   "metadata": {},
   "outputs": [
    {
     "name": "stdout",
     "output_type": "stream",
     "text": [
      "[1, 4, 9, 16]\n"
     ]
    }
   ],
   "source": [
    "x = [1,2,3,4]\n",
    "out = []\n",
    "for i in x:\n",
    "    out.append(i**2)\n",
    "print(out)"
   ]
  },
  {
   "cell_type": "code",
   "execution_count": 21,
   "id": "11e3c951",
   "metadata": {},
   "outputs": [
    {
     "data": {
      "text/plain": [
       "[1, 4, 9, 16]"
      ]
     },
     "execution_count": 21,
     "metadata": {},
     "output_type": "execute_result"
    }
   ],
   "source": [
    "out1 = [i**2 for i in x]\n",
    "out1"
   ]
  },
  {
   "cell_type": "code",
   "execution_count": 22,
   "id": "c725c927",
   "metadata": {},
   "outputs": [
    {
     "name": "stdout",
     "output_type": "stream",
     "text": [
      "0\n",
      "1\n",
      "2\n",
      "3\n",
      "4\n"
     ]
    }
   ],
   "source": [
    "#List using range function.\n",
    "for x in range(0,5):\n",
    "    print(x)"
   ]
  },
  {
   "cell_type": "code",
   "execution_count": 23,
   "id": "f656688e",
   "metadata": {},
   "outputs": [
    {
     "data": {
      "text/plain": [
       "range(0, 5)"
      ]
     },
     "execution_count": 23,
     "metadata": {},
     "output_type": "execute_result"
    }
   ],
   "source": [
    "range(5)"
   ]
  },
  {
   "cell_type": "code",
   "execution_count": 24,
   "id": "88c41a72",
   "metadata": {},
   "outputs": [
    {
     "ename": "TypeError",
     "evalue": "'list' object is not callable",
     "output_type": "error",
     "traceback": [
      "\u001b[1;31m---------------------------------------------------------------------------\u001b[0m",
      "\u001b[1;31mTypeError\u001b[0m                                 Traceback (most recent call last)",
      "Cell \u001b[1;32mIn [24], line 1\u001b[0m\n\u001b[1;32m----> 1\u001b[0m \u001b[38;5;28;43mlist\u001b[39;49m\u001b[43m(\u001b[49m\u001b[38;5;28;43mrange\u001b[39;49m\u001b[43m(\u001b[49m\u001b[38;5;241;43m10\u001b[39;49m\u001b[43m)\u001b[49m\u001b[43m)\u001b[49m\n",
      "\u001b[1;31mTypeError\u001b[0m: 'list' object is not callable"
     ]
    }
   ],
   "source": [
    "list(range(10))"
   ]
  },
  {
   "cell_type": "markdown",
   "id": "dc4e0ee8",
   "metadata": {},
   "source": [
    "# Tuples"
   ]
  },
  {
   "cell_type": "code",
   "execution_count": null,
   "id": "f6032ae5",
   "metadata": {},
   "outputs": [],
   "source": [
    "#Tuple is an immutable data type in python.\n",
    "a = (1,2,3,4,5, 2, 3, 4,5 )\n",
    "a"
   ]
  },
  {
   "cell_type": "code",
   "execution_count": null,
   "id": "f8a74afe",
   "metadata": {},
   "outputs": [],
   "source": [
    "a.count(2)"
   ]
  },
  {
   "cell_type": "code",
   "execution_count": null,
   "id": "8f401cd1",
   "metadata": {},
   "outputs": [],
   "source": [
    "a.index(2)"
   ]
  },
  {
   "cell_type": "code",
   "execution_count": null,
   "id": "4eb8addd",
   "metadata": {},
   "outputs": [],
   "source": [
    "a[0]"
   ]
  },
  {
   "cell_type": "code",
   "execution_count": null,
   "id": "568c1d65",
   "metadata": {},
   "outputs": [],
   "source": [
    "a[4]"
   ]
  },
  {
   "cell_type": "code",
   "execution_count": null,
   "id": "1837cde3",
   "metadata": {},
   "outputs": [],
   "source": [
    "a[:]"
   ]
  },
  {
   "cell_type": "markdown",
   "id": "95e5f710",
   "metadata": {},
   "source": [
    "# Dictionary"
   ]
  },
  {
   "cell_type": "code",
   "execution_count": null,
   "id": "59834586",
   "metadata": {},
   "outputs": [],
   "source": [
    "#Dictionary is a collection of key-value pairs.\n",
    "a = {\"Very slow\" : \"Sluggish\",\n",
    "    \"Very Hungry\" : \"Famished\",\n",
    "    \"Very Small\" : \"Breif\",\n",
    "    \"Very Important\" : \"Crucial\",\n",
    "    \"Very Talented\" : \"Gifted\",\n",
    "    \"Very Thin\" : \"Slender\",\n",
    "    \"Very Poor\" : \"Destitute\",\n",
    "    \"Very Quick\" : \"Rapid\",\n",
    "    \"Very Impressive\" : \"Extraordinary\",\n",
    "    \"Very Afraid\" : \"Terrified\",\n",
    "    \"Very Dirty\" : \"Filthy\",\n",
    "    \"Very Old\" : \"Ancient\",\n",
    "    \"Very Excited\" : \"Thrilled\"}\n",
    "\n",
    "a.items()\n",
    "a.keys()\n",
    "del a[\"Very Quick\"]\n",
    "a.keys()"
   ]
  },
  {
   "cell_type": "code",
   "execution_count": null,
   "id": "02c878ac",
   "metadata": {},
   "outputs": [],
   "source": [
    "\"Very Poor\" in a"
   ]
  },
  {
   "cell_type": "code",
   "execution_count": null,
   "id": "5d0ad7c7",
   "metadata": {},
   "outputs": [],
   "source": [
    "\"Ancient\" not in a"
   ]
  },
  {
   "cell_type": "code",
   "execution_count": null,
   "id": "c368974a",
   "metadata": {},
   "outputs": [],
   "source": [
    "list(a)"
   ]
  },
  {
   "cell_type": "code",
   "execution_count": null,
   "id": "512a15f8",
   "metadata": {},
   "outputs": [],
   "source": [
    "sorted(a)"
   ]
  },
  {
   "cell_type": "code",
   "execution_count": null,
   "id": "31431aaf",
   "metadata": {},
   "outputs": [],
   "source": [
    "a.values()"
   ]
  },
  {
   "cell_type": "markdown",
   "id": "e23a6615",
   "metadata": {},
   "source": [
    "# Sets"
   ]
  },
  {
   "cell_type": "code",
   "execution_count": null,
   "id": "78116bb4",
   "metadata": {},
   "outputs": [],
   "source": [
    "#Set is a collection of unique elements.\n",
    "s = {1,2,2,2,2,3,3,3,3,4,4,4,4,5,5,5,5,5}\n",
    "s"
   ]
  },
  {
   "cell_type": "code",
   "execution_count": null,
   "id": "be2888d4",
   "metadata": {},
   "outputs": [],
   "source": [
    "len(s)"
   ]
  },
  {
   "cell_type": "code",
   "execution_count": null,
   "id": "a6d8ef95",
   "metadata": {},
   "outputs": [],
   "source": [
    "s.remove(2)"
   ]
  },
  {
   "cell_type": "code",
   "execution_count": null,
   "id": "fe868c8c",
   "metadata": {},
   "outputs": [],
   "source": [
    "s"
   ]
  },
  {
   "cell_type": "code",
   "execution_count": null,
   "id": "850cab24",
   "metadata": {},
   "outputs": [],
   "source": [
    "s.pop()"
   ]
  },
  {
   "cell_type": "code",
   "execution_count": null,
   "id": "9b45735a",
   "metadata": {},
   "outputs": [],
   "source": [
    "s.union({1,5})"
   ]
  },
  {
   "cell_type": "markdown",
   "id": "63b0c1b9",
   "metadata": {},
   "source": [
    "# Function"
   ]
  },
  {
   "cell_type": "code",
   "execution_count": null,
   "id": "720dace3",
   "metadata": {},
   "outputs": [],
   "source": [
    "def square(num):\n",
    "    '''\n",
    "    THIS IS A DOCSTRING\n",
    "    CAN GO WITH MULTIPLE LINES.\n",
    "    '''\n",
    "    return(num**2)\n",
    "\n",
    "output = square(4)"
   ]
  },
  {
   "cell_type": "code",
   "execution_count": null,
   "id": "d2eaaef2",
   "metadata": {},
   "outputs": [],
   "source": [
    "output"
   ]
  },
  {
   "cell_type": "markdown",
   "id": "95d30040",
   "metadata": {},
   "source": [
    "# Map ,Filter and Lambda "
   ]
  },
  {
   "cell_type": "code",
   "execution_count": null,
   "id": "8b46f464",
   "metadata": {},
   "outputs": [],
   "source": [
    "def square(num):\n",
    "    return num**2\n",
    "square(2)"
   ]
  },
  {
   "cell_type": "code",
   "execution_count": null,
   "id": "27f14362",
   "metadata": {},
   "outputs": [],
   "source": [
    "seq = [1,2,3,4,5,6,7]\n",
    "list(map(square, seq))"
   ]
  },
  {
   "cell_type": "code",
   "execution_count": null,
   "id": "98854251",
   "metadata": {},
   "outputs": [],
   "source": [
    "lambda var:var*2"
   ]
  },
  {
   "cell_type": "code",
   "execution_count": null,
   "id": "2ac184e2",
   "metadata": {},
   "outputs": [],
   "source": [
    "list(map(lambda var : var*2, seq))"
   ]
  },
  {
   "cell_type": "code",
   "execution_count": null,
   "id": "06af695a",
   "metadata": {},
   "outputs": [],
   "source": [
    "filter(lambda i : i%2 == 0, seq)"
   ]
  },
  {
   "cell_type": "code",
   "execution_count": null,
   "id": "9408e8b1",
   "metadata": {},
   "outputs": [],
   "source": [
    "list(filter(lambda i : i%2 == 0, seq))"
   ]
  },
  {
   "cell_type": "markdown",
   "id": "7262e230",
   "metadata": {},
   "source": [
    "# String"
   ]
  },
  {
   "cell_type": "code",
   "execution_count": null,
   "id": "c9c10091",
   "metadata": {},
   "outputs": [],
   "source": [
    "s = \"Different types of string methods\"\n",
    "s.lower()"
   ]
  },
  {
   "cell_type": "code",
   "execution_count": null,
   "id": "22a97a0a",
   "metadata": {},
   "outputs": [],
   "source": [
    "s.upper()\n"
   ]
  },
  {
   "cell_type": "code",
   "execution_count": null,
   "id": "171fb745",
   "metadata": {},
   "outputs": [],
   "source": [
    "s.find(\"e\")"
   ]
  },
  {
   "cell_type": "code",
   "execution_count": null,
   "id": "89508fa9",
   "metadata": {},
   "outputs": [],
   "source": [
    "s."
   ]
  },
  {
   "cell_type": "code",
   "execution_count": 2,
   "id": "1de1f7d2",
   "metadata": {},
   "outputs": [],
   "source": [
    "x = [(1,2), (3,4), (5, 6)]\n"
   ]
  },
  {
   "cell_type": "code",
   "execution_count": 3,
   "id": "4d277c50",
   "metadata": {},
   "outputs": [
    {
     "name": "stdout",
     "output_type": "stream",
     "text": [
      "(1, 2)\n",
      "(3, 4)\n",
      "(5, 6)\n"
     ]
    }
   ],
   "source": [
    "for item in x:\n",
    "    print(item)"
   ]
  },
  {
   "cell_type": "code",
   "execution_count": 4,
   "id": "8ad12371",
   "metadata": {},
   "outputs": [
    {
     "name": "stdout",
     "output_type": "stream",
     "text": [
      "1\n",
      "2\n",
      "3\n",
      "4\n",
      "5\n",
      "6\n"
     ]
    }
   ],
   "source": [
    "for (a,b) in x:\n",
    "    print(a)\n",
    "    print(b)"
   ]
  },
  {
   "cell_type": "code",
   "execution_count": 5,
   "id": "0824af18",
   "metadata": {},
   "outputs": [],
   "source": [
    "import math"
   ]
  },
  {
   "cell_type": "code",
   "execution_count": 6,
   "id": "e597d74b",
   "metadata": {},
   "outputs": [
    {
     "data": {
      "text/plain": [
       "6.0"
      ]
     },
     "execution_count": 6,
     "metadata": {},
     "output_type": "execute_result"
    }
   ],
   "source": [
    "math.sqrt(36)"
   ]
  },
  {
   "cell_type": "code",
   "execution_count": 8,
   "id": "08ed3dc3",
   "metadata": {},
   "outputs": [],
   "source": [
    "from math import sqrt"
   ]
  },
  {
   "cell_type": "code",
   "execution_count": 9,
   "id": "281ca00b",
   "metadata": {},
   "outputs": [
    {
     "data": {
      "text/plain": [
       "5.0"
      ]
     },
     "execution_count": 9,
     "metadata": {},
     "output_type": "execute_result"
    }
   ],
   "source": [
    "sqrt(25)"
   ]
  },
  {
   "cell_type": "code",
   "execution_count": 10,
   "id": "3ce8bed3",
   "metadata": {},
   "outputs": [],
   "source": [
    "from math import sqrt as s"
   ]
  },
  {
   "cell_type": "code",
   "execution_count": 11,
   "id": "22548a60",
   "metadata": {},
   "outputs": [
    {
     "data": {
      "text/plain": [
       "9.0"
      ]
     },
     "execution_count": 11,
     "metadata": {},
     "output_type": "execute_result"
    }
   ],
   "source": [
    "s(81)"
   ]
  },
  {
   "cell_type": "code",
   "execution_count": 12,
   "id": "ab93f22b",
   "metadata": {
    "scrolled": false
   },
   "outputs": [
    {
     "name": "stdout",
     "output_type": "stream",
     "text": [
      "Help on built-in module math:\n",
      "\n",
      "NAME\n",
      "    math\n",
      "\n",
      "DESCRIPTION\n",
      "    This module provides access to the mathematical functions\n",
      "    defined by the C standard.\n",
      "\n",
      "FUNCTIONS\n",
      "    acos(x, /)\n",
      "        Return the arc cosine (measured in radians) of x.\n",
      "        \n",
      "        The result is between 0 and pi.\n",
      "    \n",
      "    acosh(x, /)\n",
      "        Return the inverse hyperbolic cosine of x.\n",
      "    \n",
      "    asin(x, /)\n",
      "        Return the arc sine (measured in radians) of x.\n",
      "        \n",
      "        The result is between -pi/2 and pi/2.\n",
      "    \n",
      "    asinh(x, /)\n",
      "        Return the inverse hyperbolic sine of x.\n",
      "    \n",
      "    atan(x, /)\n",
      "        Return the arc tangent (measured in radians) of x.\n",
      "        \n",
      "        The result is between -pi/2 and pi/2.\n",
      "    \n",
      "    atan2(y, x, /)\n",
      "        Return the arc tangent (measured in radians) of y/x.\n",
      "        \n",
      "        Unlike atan(y/x), the signs of both x and y are considered.\n",
      "    \n",
      "    atanh(x, /)\n",
      "        Return the inverse hyperbolic tangent of x.\n",
      "    \n",
      "    ceil(x, /)\n",
      "        Return the ceiling of x as an Integral.\n",
      "        \n",
      "        This is the smallest integer >= x.\n",
      "    \n",
      "    comb(n, k, /)\n",
      "        Number of ways to choose k items from n items without repetition and without order.\n",
      "        \n",
      "        Evaluates to n! / (k! * (n - k)!) when k <= n and evaluates\n",
      "        to zero when k > n.\n",
      "        \n",
      "        Also called the binomial coefficient because it is equivalent\n",
      "        to the coefficient of k-th term in polynomial expansion of the\n",
      "        expression (1 + x)**n.\n",
      "        \n",
      "        Raises TypeError if either of the arguments are not integers.\n",
      "        Raises ValueError if either of the arguments are negative.\n",
      "    \n",
      "    copysign(x, y, /)\n",
      "        Return a float with the magnitude (absolute value) of x but the sign of y.\n",
      "        \n",
      "        On platforms that support signed zeros, copysign(1.0, -0.0)\n",
      "        returns -1.0.\n",
      "    \n",
      "    cos(x, /)\n",
      "        Return the cosine of x (measured in radians).\n",
      "    \n",
      "    cosh(x, /)\n",
      "        Return the hyperbolic cosine of x.\n",
      "    \n",
      "    degrees(x, /)\n",
      "        Convert angle x from radians to degrees.\n",
      "    \n",
      "    dist(p, q, /)\n",
      "        Return the Euclidean distance between two points p and q.\n",
      "        \n",
      "        The points should be specified as sequences (or iterables) of\n",
      "        coordinates.  Both inputs must have the same dimension.\n",
      "        \n",
      "        Roughly equivalent to:\n",
      "            sqrt(sum((px - qx) ** 2.0 for px, qx in zip(p, q)))\n",
      "    \n",
      "    erf(x, /)\n",
      "        Error function at x.\n",
      "    \n",
      "    erfc(x, /)\n",
      "        Complementary error function at x.\n",
      "    \n",
      "    exp(x, /)\n",
      "        Return e raised to the power of x.\n",
      "    \n",
      "    expm1(x, /)\n",
      "        Return exp(x)-1.\n",
      "        \n",
      "        This function avoids the loss of precision involved in the direct evaluation of exp(x)-1 for small x.\n",
      "    \n",
      "    fabs(x, /)\n",
      "        Return the absolute value of the float x.\n",
      "    \n",
      "    factorial(x, /)\n",
      "        Find x!.\n",
      "        \n",
      "        Raise a ValueError if x is negative or non-integral.\n",
      "    \n",
      "    floor(x, /)\n",
      "        Return the floor of x as an Integral.\n",
      "        \n",
      "        This is the largest integer <= x.\n",
      "    \n",
      "    fmod(x, y, /)\n",
      "        Return fmod(x, y), according to platform C.\n",
      "        \n",
      "        x % y may differ.\n",
      "    \n",
      "    frexp(x, /)\n",
      "        Return the mantissa and exponent of x, as pair (m, e).\n",
      "        \n",
      "        m is a float and e is an int, such that x = m * 2.**e.\n",
      "        If x is 0, m and e are both 0.  Else 0.5 <= abs(m) < 1.0.\n",
      "    \n",
      "    fsum(seq, /)\n",
      "        Return an accurate floating point sum of values in the iterable seq.\n",
      "        \n",
      "        Assumes IEEE-754 floating point arithmetic.\n",
      "    \n",
      "    gamma(x, /)\n",
      "        Gamma function at x.\n",
      "    \n",
      "    gcd(*integers)\n",
      "        Greatest Common Divisor.\n",
      "    \n",
      "    hypot(...)\n",
      "        hypot(*coordinates) -> value\n",
      "        \n",
      "        Multidimensional Euclidean distance from the origin to a point.\n",
      "        \n",
      "        Roughly equivalent to:\n",
      "            sqrt(sum(x**2 for x in coordinates))\n",
      "        \n",
      "        For a two dimensional point (x, y), gives the hypotenuse\n",
      "        using the Pythagorean theorem:  sqrt(x*x + y*y).\n",
      "        \n",
      "        For example, the hypotenuse of a 3/4/5 right triangle is:\n",
      "        \n",
      "            >>> hypot(3.0, 4.0)\n",
      "            5.0\n",
      "    \n",
      "    isclose(a, b, *, rel_tol=1e-09, abs_tol=0.0)\n",
      "        Determine whether two floating point numbers are close in value.\n",
      "        \n",
      "          rel_tol\n",
      "            maximum difference for being considered \"close\", relative to the\n",
      "            magnitude of the input values\n",
      "          abs_tol\n",
      "            maximum difference for being considered \"close\", regardless of the\n",
      "            magnitude of the input values\n",
      "        \n",
      "        Return True if a is close in value to b, and False otherwise.\n",
      "        \n",
      "        For the values to be considered close, the difference between them\n",
      "        must be smaller than at least one of the tolerances.\n",
      "        \n",
      "        -inf, inf and NaN behave similarly to the IEEE 754 Standard.  That\n",
      "        is, NaN is not close to anything, even itself.  inf and -inf are\n",
      "        only close to themselves.\n",
      "    \n",
      "    isfinite(x, /)\n",
      "        Return True if x is neither an infinity nor a NaN, and False otherwise.\n",
      "    \n",
      "    isinf(x, /)\n",
      "        Return True if x is a positive or negative infinity, and False otherwise.\n",
      "    \n",
      "    isnan(x, /)\n",
      "        Return True if x is a NaN (not a number), and False otherwise.\n",
      "    \n",
      "    isqrt(n, /)\n",
      "        Return the integer part of the square root of the input.\n",
      "    \n",
      "    lcm(*integers)\n",
      "        Least Common Multiple.\n",
      "    \n",
      "    ldexp(x, i, /)\n",
      "        Return x * (2**i).\n",
      "        \n",
      "        This is essentially the inverse of frexp().\n",
      "    \n",
      "    lgamma(x, /)\n",
      "        Natural logarithm of absolute value of Gamma function at x.\n",
      "    \n",
      "    log(...)\n",
      "        log(x, [base=math.e])\n",
      "        Return the logarithm of x to the given base.\n",
      "        \n",
      "        If the base not specified, returns the natural logarithm (base e) of x.\n",
      "    \n",
      "    log10(x, /)\n",
      "        Return the base 10 logarithm of x.\n",
      "    \n",
      "    log1p(x, /)\n",
      "        Return the natural logarithm of 1+x (base e).\n",
      "        \n",
      "        The result is computed in a way which is accurate for x near zero.\n",
      "    \n",
      "    log2(x, /)\n",
      "        Return the base 2 logarithm of x.\n",
      "    \n",
      "    modf(x, /)\n",
      "        Return the fractional and integer parts of x.\n",
      "        \n",
      "        Both results carry the sign of x and are floats.\n",
      "    \n",
      "    nextafter(x, y, /)\n",
      "        Return the next floating-point value after x towards y.\n",
      "    \n",
      "    perm(n, k=None, /)\n",
      "        Number of ways to choose k items from n items without repetition and with order.\n",
      "        \n",
      "        Evaluates to n! / (n - k)! when k <= n and evaluates\n",
      "        to zero when k > n.\n",
      "        \n",
      "        If k is not specified or is None, then k defaults to n\n",
      "        and the function returns n!.\n",
      "        \n",
      "        Raises TypeError if either of the arguments are not integers.\n",
      "        Raises ValueError if either of the arguments are negative.\n",
      "    \n",
      "    pow(x, y, /)\n",
      "        Return x**y (x to the power of y).\n",
      "    \n",
      "    prod(iterable, /, *, start=1)\n",
      "        Calculate the product of all the elements in the input iterable.\n",
      "        \n",
      "        The default start value for the product is 1.\n",
      "        \n",
      "        When the iterable is empty, return the start value.  This function is\n",
      "        intended specifically for use with numeric values and may reject\n",
      "        non-numeric types.\n",
      "    \n",
      "    radians(x, /)\n",
      "        Convert angle x from degrees to radians.\n",
      "    \n",
      "    remainder(x, y, /)\n",
      "        Difference between x and the closest integer multiple of y.\n",
      "        \n",
      "        Return x - n*y where n*y is the closest integer multiple of y.\n",
      "        In the case where x is exactly halfway between two multiples of\n",
      "        y, the nearest even value of n is used. The result is always exact.\n",
      "    \n",
      "    sin(x, /)\n",
      "        Return the sine of x (measured in radians).\n",
      "    \n",
      "    sinh(x, /)\n",
      "        Return the hyperbolic sine of x.\n",
      "    \n",
      "    sqrt(x, /)\n",
      "        Return the square root of x.\n",
      "    \n",
      "    tan(x, /)\n",
      "        Return the tangent of x (measured in radians).\n",
      "    \n",
      "    tanh(x, /)\n",
      "        Return the hyperbolic tangent of x.\n",
      "    \n",
      "    trunc(x, /)\n",
      "        Truncates the Real x to the nearest Integral toward 0.\n",
      "        \n",
      "        Uses the __trunc__ magic method.\n",
      "    \n",
      "    ulp(x, /)\n",
      "        Return the value of the least significant bit of the float x.\n",
      "\n",
      "DATA\n",
      "    e = 2.718281828459045\n",
      "    inf = inf\n",
      "    nan = nan\n",
      "    pi = 3.141592653589793\n",
      "    tau = 6.283185307179586\n",
      "\n",
      "FILE\n",
      "    (built-in)\n",
      "\n",
      "\n"
     ]
    }
   ],
   "source": [
    "help(math)"
   ]
  },
  {
   "cell_type": "code",
   "execution_count": null,
   "id": "5ab29bca",
   "metadata": {},
   "outputs": [],
   "source": []
  }
 ],
 "metadata": {
  "kernelspec": {
   "display_name": "Python 3 (ipykernel)",
   "language": "python",
   "name": "python3"
  },
  "language_info": {
   "codemirror_mode": {
    "name": "ipython",
    "version": 3
   },
   "file_extension": ".py",
   "mimetype": "text/x-python",
   "name": "python",
   "nbconvert_exporter": "python",
   "pygments_lexer": "ipython3",
   "version": "3.10.1"
  }
 },
 "nbformat": 4,
 "nbformat_minor": 5
}
