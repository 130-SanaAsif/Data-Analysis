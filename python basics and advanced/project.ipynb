{
 "cells": [
  {
   "cell_type": "markdown",
   "id": "093f25a7",
   "metadata": {},
   "source": [
    "# Create a Function to Check if a Number Is Prime"
   ]
  },
  {
   "cell_type": "code",
   "execution_count": 4,
   "id": "3507ed1a",
   "metadata": {},
   "outputs": [
    {
     "name": "stdout",
     "output_type": "stream",
     "text": [
      "1\n",
      "False\n"
     ]
    }
   ],
   "source": [
    "from math import sqrt as s\n",
    "\n",
    "def is_prime(n):\n",
    "    if(n <= 1):\n",
    "        return False\n",
    "    \n",
    "    for i in range(2,int(s(n))+1):\n",
    "        if(n%i == 0):\n",
    "            return False\n",
    "    return True\n",
    "\n",
    "n = int(input())\n",
    "print(is_prime(n));\n"
   ]
  },
  {
   "cell_type": "markdown",
   "id": "f48d707f",
   "metadata": {},
   "source": [
    "# Count Prime Numbers in a Range"
   ]
  },
  {
   "cell_type": "code",
   "execution_count": 3,
   "id": "35ae943a",
   "metadata": {},
   "outputs": [
    {
     "name": "stdout",
     "output_type": "stream",
     "text": [
      "100\n",
      "151\n",
      "11\n"
     ]
    }
   ],
   "source": [
    "a = int(input())\n",
    "b = int(input())\n",
    "\n",
    "cnt = 0\n",
    "for n in range(a, b+1):\n",
    "    if is_prime(n):\n",
    "        cnt += 1\n",
    "            \n",
    "print(cnt)"
   ]
  },
  {
   "cell_type": "code",
   "execution_count": 5,
   "id": "6fb8df08",
   "metadata": {},
   "outputs": [
    {
     "name": "stdout",
     "output_type": "stream",
     "text": [
      "blue\n"
     ]
    }
   ],
   "source": [
    "hair = 'blue'\n",
    "print(hair)"
   ]
  },
  {
   "cell_type": "code",
   "execution_count": 7,
   "id": "d8a48641",
   "metadata": {},
   "outputs": [
    {
     "data": {
      "text/plain": [
       "str"
      ]
     },
     "execution_count": 7,
     "metadata": {},
     "output_type": "execute_result"
    }
   ],
   "source": [
    "type(hair)"
   ]
  },
  {
   "cell_type": "code",
   "execution_count": 27,
   "id": "2a7fbb03",
   "metadata": {},
   "outputs": [
    {
     "data": {
      "text/plain": [
       "['tom', 'sam', 'pot', 'org']"
      ]
     },
     "execution_count": 27,
     "metadata": {},
     "output_type": "execute_result"
    }
   ],
   "source": [
    "arr = ['tom','sam','pot','pea','org']\n",
    "del arr[3]\n",
    "arr"
   ]
  },
  {
   "cell_type": "code",
   "execution_count": 24,
   "id": "0b3dcd59",
   "metadata": {},
   "outputs": [
    {
     "data": {
      "text/plain": [
       "['pea']"
      ]
     },
     "execution_count": 24,
     "metadata": {},
     "output_type": "execute_result"
    }
   ],
   "source": [
    "del arr[1:3]\n",
    "arr"
   ]
  },
  {
   "cell_type": "code",
   "execution_count": 19,
   "id": "5bd862c1",
   "metadata": {},
   "outputs": [],
   "source": [
    "del arr[1:2]"
   ]
  },
  {
   "cell_type": "code",
   "execution_count": 20,
   "id": "05785f9d",
   "metadata": {},
   "outputs": [],
   "source": [
    "del arr[0:2]"
   ]
  },
  {
   "cell_type": "code",
   "execution_count": 30,
   "id": "ac0ad495",
   "metadata": {},
   "outputs": [
    {
     "ename": "TypeError",
     "evalue": "can only concatenate str (not \"int\") to str",
     "output_type": "error",
     "traceback": [
      "\u001b[1;31m---------------------------------------------------------------------------\u001b[0m",
      "\u001b[1;31mTypeError\u001b[0m                                 Traceback (most recent call last)",
      "Cell \u001b[1;32mIn [30], line 2\u001b[0m\n\u001b[0;32m      1\u001b[0m age \u001b[38;5;241m=\u001b[39m \u001b[38;5;241m27\u001b[39m\n\u001b[1;32m----> 2\u001b[0m \u001b[38;5;28mprint\u001b[39m(\u001b[38;5;124;43m\"\u001b[39;49m\u001b[38;5;124;43muhufhuf\u001b[39;49m\u001b[38;5;124;43m\"\u001b[39;49m\u001b[38;5;241;43m+\u001b[39;49m\u001b[43mage\u001b[49m )\n",
      "\u001b[1;31mTypeError\u001b[0m: can only concatenate str (not \"int\") to str"
     ]
    }
   ],
   "source": [
    "age = 27\n",
    "print(\"uhufhuf\" +age )"
   ]
  },
  {
   "cell_type": "code",
   "execution_count": null,
   "id": "d04b10eb",
   "metadata": {},
   "outputs": [],
   "source": []
  }
 ],
 "metadata": {
  "kernelspec": {
   "display_name": "Python 3 (ipykernel)",
   "language": "python",
   "name": "python3"
  },
  "language_info": {
   "codemirror_mode": {
    "name": "ipython",
    "version": 3
   },
   "file_extension": ".py",
   "mimetype": "text/x-python",
   "name": "python",
   "nbconvert_exporter": "python",
   "pygments_lexer": "ipython3",
   "version": "3.10.1"
  }
 },
 "nbformat": 4,
 "nbformat_minor": 5
}
