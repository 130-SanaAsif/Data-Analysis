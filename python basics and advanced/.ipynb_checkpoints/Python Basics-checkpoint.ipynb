{
 "cells": [
  {
   "cell_type": "code",
   "execution_count": 12,
   "id": "946a8cd9",
   "metadata": {},
   "outputs": [
    {
     "name": "stdout",
     "output_type": "stream",
     "text": [
      "[1, 2, 3, 4, 5]\n",
      "<class 'list'>\n"
     ]
    }
   ],
   "source": [
    "# List are containers to store a set of value of any data type.\n",
    "list = [1,2,3,4,5]\n",
    "print(list)\n",
    "print(type(list))"
   ]
  },
  {
   "cell_type": "markdown",
   "id": "d29d2552",
   "metadata": {},
   "source": [
    "# List Indexing"
   ]
  },
  {
   "cell_type": "code",
   "execution_count": 2,
   "id": "7d22c9d7",
   "metadata": {},
   "outputs": [
    {
     "name": "stdout",
     "output_type": "stream",
     "text": [
      "1\n"
     ]
    }
   ],
   "source": [
    "#To access first element (index start from 0)\n",
    "list = [1,2,3,4,5]\n",
    "print(list[0])"
   ]
  },
  {
   "cell_type": "code",
   "execution_count": 10,
   "id": "80205b58",
   "metadata": {},
   "outputs": [
    {
     "name": "stdout",
     "output_type": "stream",
     "text": [
      "[1, 2]\n",
      "[1, 2, 3, 4, 5]\n",
      "[1, 2, 3, 4, 5]\n",
      "[2]\n",
      "[5, 2]\n"
     ]
    }
   ],
   "source": [
    "#List Slicing (index:(index-1))\n",
    "list = [1,2,3,4,5]\n",
    "print(list[0:2])\n",
    "\n",
    "print(list[0:])\n",
    "print(list[:5])\n",
    "print(list[-1::-3])"
   ]
  },
  {
   "cell_type": "markdown",
   "id": "5c5ac949",
   "metadata": {},
   "source": [
    "# List Method"
   ]
  },
  {
   "cell_type": "code",
   "execution_count": 11,
   "id": "2d2cc8d0",
   "metadata": {},
   "outputs": [
    {
     "name": "stdout",
     "output_type": "stream",
     "text": [
      "[1, 2, 3, 4, 5, 45]\n"
     ]
    }
   ],
   "source": [
    "#append method -> will add element add the end of list.\n",
    "list = [1,2,3,4,5]\n",
    "list.append(45)\n",
    "print(list)"
   ]
  },
  {
   "cell_type": "code",
   "execution_count": 12,
   "id": "ea1a5f04",
   "metadata": {},
   "outputs": [
    {
     "name": "stdout",
     "output_type": "stream",
     "text": [
      "11\n"
     ]
    }
   ],
   "source": [
    "#len method -> will print the length of list.\n",
    "list = [1,2,3,4,5,6,7,8,9,10, 11]\n",
    "res = len(list)\n",
    "print(res)"
   ]
  },
  {
   "cell_type": "code",
   "execution_count": 13,
   "id": "fccf337a",
   "metadata": {},
   "outputs": [
    {
     "name": "stdout",
     "output_type": "stream",
     "text": [
      "[1, 2, 3, 4, 8, 9, 10, 23, 56, 57, 83]\n"
     ]
    }
   ],
   "source": [
    "#sorting method -> will sort the elements of a list in ascending order.\n",
    "list = [23,56,83,1,3,57,8,2,4,9,10]\n",
    "list.sort()\n",
    "print(list)"
   ]
  },
  {
   "cell_type": "code",
   "execution_count": 19,
   "id": "130e22f4",
   "metadata": {},
   "outputs": [],
   "source": [
    "#reverse method -> will reverse the elements of list.\n",
    "list = [23,56,83,1,3,57,8,2,4,9,10]\n",
    "list.reverse()\n",
    "print(list)"
   ]
  },
  {
   "cell_type": "code",
   "execution_count": 20,
   "id": "4dbbe4a0",
   "metadata": {},
   "outputs": [
    {
     "data": {
      "text/plain": [
       "2"
      ]
     },
     "execution_count": 20,
     "metadata": {},
     "output_type": "execute_result"
    }
   ],
   "source": [
    "#count method -> will count the elements of list.\n",
    "list = [23,56,83,1,3,57,8,2,4,9,10,56]\n",
    "list.count(56)"
   ]
  },
  {
   "cell_type": "code",
   "execution_count": 22,
   "id": "4b4752c8",
   "metadata": {},
   "outputs": [
    {
     "data": {
      "text/plain": [
       "83"
      ]
     },
     "execution_count": 22,
     "metadata": {},
     "output_type": "execute_result"
    }
   ],
   "source": [
    "#max method -> return the maximum number of element present in list.\n",
    "list = [23,56,83,1,3,57,8,2,4,9,10]\n",
    "max(list)"
   ]
  },
  {
   "cell_type": "code",
   "execution_count": 23,
   "id": "6348c515",
   "metadata": {},
   "outputs": [
    {
     "data": {
      "text/plain": [
       "1"
      ]
     },
     "execution_count": 23,
     "metadata": {},
     "output_type": "execute_result"
    }
   ],
   "source": [
    "#min method -> return the minimum number of element present in list.\n",
    "list = [23,56,83,1,3,57,8,2,4,9,10]\n",
    "min(list)"
   ]
  },
  {
   "cell_type": "code",
   "execution_count": 28,
   "id": "0f96615b",
   "metadata": {},
   "outputs": [
    {
     "name": "stdout",
     "output_type": "stream",
     "text": [
      "[1, 2, 3, 4, 5, 23, 56, 83]\n"
     ]
    }
   ],
   "source": [
    "#extend method -> Add the elements of list1 to the list.\n",
    "list1 = [1,2,3,4,5]\n",
    "list = [23,56,83]\n",
    "list1.extend(list)\n",
    "print(list1)"
   ]
  },
  {
   "cell_type": "code",
   "execution_count": 34,
   "id": "90f70b96",
   "metadata": {},
   "outputs": [
    {
     "name": "stdout",
     "output_type": "stream",
     "text": [
      "7\n",
      "[1, 2, 3, 34, 45, 67, 89, 90]\n",
      "8\n"
     ]
    }
   ],
   "source": [
    "#insert method -> this will add new element by replacing the old one.\n",
    "list = [1,2,3,45,67,89,90]\n",
    "res = len(list)\n",
    "print(res)\n",
    "list.insert(3,34)\n",
    "print(list)\n",
    "res1 = len(list)\n",
    "print(res1)"
   ]
  },
  {
   "cell_type": "markdown",
   "id": "740f1e8e",
   "metadata": {},
   "source": [
    "# List as a stack"
   ]
  },
  {
   "cell_type": "code",
   "execution_count": 6,
   "id": "1f000384",
   "metadata": {},
   "outputs": [
    {
     "name": "stdout",
     "output_type": "stream",
     "text": [
      "[2, 3, 4, 5, 45]\n",
      "[2, 3, 5, 45]\n"
     ]
    },
    {
     "data": {
      "text/plain": [
       "[2, 3, 5]"
      ]
     },
     "execution_count": 6,
     "metadata": {},
     "output_type": "execute_result"
    }
   ],
   "source": [
    "stack = [2,3,4,5]\n",
    "stack.append(45)\n",
    "print(stack)\n",
    "stack.pop(2)\n",
    "print(stack)\n",
    "stack.pop()\n",
    "stack"
   ]
  },
  {
   "cell_type": "markdown",
   "id": "68e1f209",
   "metadata": {},
   "source": [
    "# List as a Queue"
   ]
  },
  {
   "cell_type": "code",
   "execution_count": 8,
   "id": "c9f6280d",
   "metadata": {},
   "outputs": [
    {
     "data": {
      "text/plain": [
       "deque(['Apple', 'Mango', 'Banana', 'Litchi', 'Kiwi'])"
      ]
     },
     "execution_count": 8,
     "metadata": {},
     "output_type": "execute_result"
    }
   ],
   "source": [
    "from collections import deque\n",
    "queue = deque([\"Apple\", \"Mango\", \"Banana\", \"Litchi\"])\n",
    "queue.append(\"Kiwi\")\n",
    "queue"
   ]
  },
  {
   "cell_type": "code",
   "execution_count": 9,
   "id": "b61b1f0e",
   "metadata": {},
   "outputs": [
    {
     "data": {
      "text/plain": [
       "deque(['Mango', 'Banana', 'Litchi', 'Kiwi'])"
      ]
     },
     "execution_count": 9,
     "metadata": {},
     "output_type": "execute_result"
    }
   ],
   "source": [
    "queue.popleft()\n",
    "queue"
   ]
  },
  {
   "cell_type": "code",
   "execution_count": 11,
   "id": "3e3bef61",
   "metadata": {},
   "outputs": [
    {
     "data": {
      "text/plain": [
       "'Mango'"
      ]
     },
     "execution_count": 11,
     "metadata": {},
     "output_type": "execute_result"
    }
   ],
   "source": [
    "queue.popleft()"
   ]
  },
  {
   "cell_type": "markdown",
   "id": "d7c26b29",
   "metadata": {},
   "source": [
    "# List Comprehension."
   ]
  },
  {
   "cell_type": "code",
   "execution_count": 26,
   "id": "e9723d92",
   "metadata": {},
   "outputs": [
    {
     "name": "stdout",
     "output_type": "stream",
     "text": [
      "['Orange', 'Apple', 'Banana', 'Kiwi', 'Custard Apple', 'Melon', 'Apricot']\n"
     ]
    }
   ],
   "source": [
    "list = [\"Orange\", \"Apple\", \"Banana\", \"Kiwi\", \"Custard Apple\", \"Melon\", \"Apricot\"]\n",
    "listwith_a = [item for item in list if \"a\" in item]\n",
    "print(listwith_a)"
   ]
  },
  {
   "cell_type": "code",
   "execution_count": 24,
   "id": "1601c23c",
   "metadata": {},
   "outputs": [
    {
     "name": "stdout",
     "output_type": "stream",
     "text": [
      "['Milo', 'Bruno', 'Rosa']\n"
     ]
    }
   ],
   "source": [
    "names = [\"Milo\", \"Sarah\", \"Bruno\", \"Anastasia\", \"Rosa\"]\n",
    "namesWith_O = [item for item in names if \"o\" in item]\n",
    "print(namesWith_O)"
   ]
  },
  {
   "cell_type": "code",
   "execution_count": 27,
   "id": "3fc50639",
   "metadata": {},
   "outputs": [
    {
     "name": "stdout",
     "output_type": "stream",
     "text": [
      "['Sarah', 'Bruno', 'Anastasia']\n"
     ]
    }
   ],
   "source": [
    "names = [\"Milo\", \"Sarah\", \"Bruno\", \"Anastasia\", \"Rosa\"]\n",
    "namesWith_O = [item for item in names if (len(item) > 4)]\n",
    "print(namesWith_O)"
   ]
  },
  {
   "cell_type": "code",
   "execution_count": 8,
   "id": "5200a6ce",
   "metadata": {},
   "outputs": [
    {
     "name": "stdout",
     "output_type": "stream",
     "text": [
      "[1, 4, 9, 16]\n"
     ]
    }
   ],
   "source": [
    "x = [1,2,3,4]\n",
    "out = []\n",
    "for i in x:\n",
    "    out.append(i**2)\n",
    "print(out)"
   ]
  },
  {
   "cell_type": "code",
   "execution_count": 10,
   "id": "c691103b",
   "metadata": {},
   "outputs": [
    {
     "data": {
      "text/plain": [
       "[1, 4, 9, 16]"
      ]
     },
     "execution_count": 10,
     "metadata": {},
     "output_type": "execute_result"
    }
   ],
   "source": [
    "out1 = [i**2 for i in x]\n",
    "out1"
   ]
  },
  {
   "cell_type": "code",
   "execution_count": 32,
   "id": "c725c927",
   "metadata": {},
   "outputs": [
    {
     "name": "stdout",
     "output_type": "stream",
     "text": [
      "0\n",
      "1\n",
      "2\n",
      "3\n",
      "4\n"
     ]
    }
   ],
   "source": [
    "#List using range function.\n",
    "for x in range(0,5):\n",
    "    print(x)"
   ]
  },
  {
   "cell_type": "code",
   "execution_count": 1,
   "id": "f656688e",
   "metadata": {},
   "outputs": [
    {
     "data": {
      "text/plain": [
       "range(0, 5)"
      ]
     },
     "execution_count": 1,
     "metadata": {},
     "output_type": "execute_result"
    }
   ],
   "source": [
    "range(5)"
   ]
  },
  {
   "cell_type": "code",
   "execution_count": 3,
   "id": "3c295df2",
   "metadata": {},
   "outputs": [
    {
     "data": {
      "text/plain": [
       "[0, 1, 2, 3, 4, 5, 6, 7, 8, 9]"
      ]
     },
     "execution_count": 3,
     "metadata": {},
     "output_type": "execute_result"
    }
   ],
   "source": [
    "list(range(10))"
   ]
  },
  {
   "cell_type": "markdown",
   "id": "daf56406",
   "metadata": {},
   "source": [
    "# Tuples"
   ]
  },
  {
   "cell_type": "code",
   "execution_count": 16,
   "id": "fc016700",
   "metadata": {},
   "outputs": [
    {
     "data": {
      "text/plain": [
       "(1, 2, 3, 4, 5, 2, 3, 4, 5)"
      ]
     },
     "execution_count": 16,
     "metadata": {},
     "output_type": "execute_result"
    }
   ],
   "source": [
    "#Tuple is an immutable data type in python.\n",
    "a = (1,2,3,4,5, 2, 3, 4,5 )\n",
    "a"
   ]
  },
  {
   "cell_type": "code",
   "execution_count": 18,
   "id": "9cac11c2",
   "metadata": {},
   "outputs": [
    {
     "data": {
      "text/plain": [
       "2"
      ]
     },
     "execution_count": 18,
     "metadata": {},
     "output_type": "execute_result"
    }
   ],
   "source": [
    "a.count(2)"
   ]
  },
  {
   "cell_type": "code",
   "execution_count": 19,
   "id": "d082bbfa",
   "metadata": {},
   "outputs": [
    {
     "data": {
      "text/plain": [
       "1"
      ]
     },
     "execution_count": 19,
     "metadata": {},
     "output_type": "execute_result"
    }
   ],
   "source": [
    "a.index(2)"
   ]
  },
  {
   "cell_type": "code",
   "execution_count": 20,
   "id": "4785a96c",
   "metadata": {},
   "outputs": [
    {
     "data": {
      "text/plain": [
       "1"
      ]
     },
     "execution_count": 20,
     "metadata": {},
     "output_type": "execute_result"
    }
   ],
   "source": [
    "a[0]"
   ]
  },
  {
   "cell_type": "code",
   "execution_count": 21,
   "id": "defa937d",
   "metadata": {},
   "outputs": [
    {
     "data": {
      "text/plain": [
       "5"
      ]
     },
     "execution_count": 21,
     "metadata": {},
     "output_type": "execute_result"
    }
   ],
   "source": [
    "a[4]"
   ]
  },
  {
   "cell_type": "code",
   "execution_count": 22,
   "id": "693050a7",
   "metadata": {},
   "outputs": [
    {
     "data": {
      "text/plain": [
       "(1, 2, 3, 4, 5, 2, 3, 4, 5)"
      ]
     },
     "execution_count": 22,
     "metadata": {},
     "output_type": "execute_result"
    }
   ],
   "source": [
    "a[:]"
   ]
  },
  {
   "cell_type": "markdown",
   "id": "b9c3a577",
   "metadata": {},
   "source": [
    "# Dictionary"
   ]
  },
  {
   "cell_type": "code",
   "execution_count": 28,
   "id": "87dcb762",
   "metadata": {},
   "outputs": [
    {
     "data": {
      "text/plain": [
       "dict_keys(['Very slow', 'Very Hungry', 'Very Small', 'Very Important', 'Very Talented', 'Very Thin', 'Very Poor', 'Very Impressive', 'Very Afraid', 'Very Dirty', 'Very Old', 'Very Excited'])"
      ]
     },
     "execution_count": 28,
     "metadata": {},
     "output_type": "execute_result"
    }
   ],
   "source": [
    "#Dictionary is a collection of key-value pairs.\n",
    "a = {\"Very slow\" : \"Sluggish\",\n",
    "    \"Very Hungry\" : \"Famished\",\n",
    "    \"Very Small\" : \"Breif\",\n",
    "    \"Very Important\" : \"Crucial\",\n",
    "    \"Very Talented\" : \"Gifted\",\n",
    "    \"Very Thin\" : \"Slender\",\n",
    "    \"Very Poor\" : \"Destitute\",\n",
    "    \"Very Quick\" : \"Rapid\",\n",
    "    \"Very Impressive\" : \"Extraordinary\",\n",
    "    \"Very Afraid\" : \"Terrified\",\n",
    "    \"Very Dirty\" : \"Filthy\",\n",
    "    \"Very Old\" : \"Ancient\",\n",
    "    \"Very Excited\" : \"Thrilled\"}\n",
    "\n",
    "a.items()\n",
    "a.keys()\n",
    "del a[\"Very Quick\"]\n",
    "a.keys()"
   ]
  },
  {
   "cell_type": "code",
   "execution_count": 30,
   "id": "94321f81",
   "metadata": {},
   "outputs": [
    {
     "data": {
      "text/plain": [
       "True"
      ]
     },
     "execution_count": 30,
     "metadata": {},
     "output_type": "execute_result"
    }
   ],
   "source": [
    "\"Very Poor\" in a"
   ]
  },
  {
   "cell_type": "code",
   "execution_count": 31,
   "id": "c917104e",
   "metadata": {},
   "outputs": [
    {
     "data": {
      "text/plain": [
       "True"
      ]
     },
     "execution_count": 31,
     "metadata": {},
     "output_type": "execute_result"
    }
   ],
   "source": [
    "\"Ancient\" not in a"
   ]
  },
  {
   "cell_type": "code",
   "execution_count": 35,
   "id": "b01f9f79",
   "metadata": {},
   "outputs": [
    {
     "data": {
      "text/plain": [
       "['Very slow',\n",
       " 'Very Hungry',\n",
       " 'Very Small',\n",
       " 'Very Important',\n",
       " 'Very Talented',\n",
       " 'Very Thin',\n",
       " 'Very Poor',\n",
       " 'Very Impressive',\n",
       " 'Very Afraid',\n",
       " 'Very Dirty',\n",
       " 'Very Old',\n",
       " 'Very Excited']"
      ]
     },
     "execution_count": 35,
     "metadata": {},
     "output_type": "execute_result"
    }
   ],
   "source": [
    "list(a)"
   ]
  },
  {
   "cell_type": "code",
   "execution_count": 36,
   "id": "924f37fb",
   "metadata": {},
   "outputs": [
    {
     "data": {
      "text/plain": [
       "['Very Afraid',\n",
       " 'Very Dirty',\n",
       " 'Very Excited',\n",
       " 'Very Hungry',\n",
       " 'Very Important',\n",
       " 'Very Impressive',\n",
       " 'Very Old',\n",
       " 'Very Poor',\n",
       " 'Very Small',\n",
       " 'Very Talented',\n",
       " 'Very Thin',\n",
       " 'Very slow']"
      ]
     },
     "execution_count": 36,
     "metadata": {},
     "output_type": "execute_result"
    }
   ],
   "source": [
    "sorted(a)"
   ]
  },
  {
   "cell_type": "markdown",
   "id": "30cb6814",
   "metadata": {},
   "source": [
    "# "
   ]
  }
 ],
 "metadata": {
  "kernelspec": {
   "display_name": "Python 3 (ipykernel)",
   "language": "python",
   "name": "python3"
  },
  "language_info": {
   "codemirror_mode": {
    "name": "ipython",
    "version": 3
   },
   "file_extension": ".py",
   "mimetype": "text/x-python",
   "name": "python",
   "nbconvert_exporter": "python",
   "pygments_lexer": "ipython3",
   "version": "3.10.1"
  }
 },
 "nbformat": 4,
 "nbformat_minor": 5
}
