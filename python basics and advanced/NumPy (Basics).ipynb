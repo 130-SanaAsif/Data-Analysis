{
 "cells": [
  {
   "cell_type": "code",
   "execution_count": 1,
   "id": "b607a309",
   "metadata": {},
   "outputs": [
    {
     "data": {
      "text/plain": [
       "array([1, 2, 3])"
      ]
     },
     "execution_count": 1,
     "metadata": {},
     "output_type": "execute_result"
    }
   ],
   "source": [
    "import numpy as np\n",
    "#Creating array in python using list\n",
    "mylist = [1,2,3]\n",
    "arr = np.array(mylist)\n",
    "arr"
   ]
  },
  {
   "cell_type": "code",
   "execution_count": 2,
   "id": "97aad5c4",
   "metadata": {},
   "outputs": [
    {
     "data": {
      "text/plain": [
       "array([[1, 2, 3],\n",
       "       [4, 5, 6],\n",
       "       [7, 8, 9]])"
      ]
     },
     "execution_count": 2,
     "metadata": {},
     "output_type": "execute_result"
    }
   ],
   "source": [
    "#2 dimensional array or Matrices.\n",
    "list = [1,2,3], [4,5,6], [7,8,9]\n",
    "arr = np.array(list)\n",
    "arr"
   ]
  },
  {
   "cell_type": "code",
   "execution_count": 3,
   "id": "3a31a61b",
   "metadata": {},
   "outputs": [
    {
     "data": {
      "text/plain": [
       "array([0, 1, 2, 3, 4, 5, 6, 7, 8, 9])"
      ]
     },
     "execution_count": 3,
     "metadata": {},
     "output_type": "execute_result"
    }
   ],
   "source": [
    "#we can create array also using arange() method.\n",
    "np.arange(0,10)"
   ]
  },
  {
   "cell_type": "code",
   "execution_count": 4,
   "id": "1cede02a",
   "metadata": {},
   "outputs": [
    {
     "data": {
      "text/plain": [
       "array([0, 2, 4, 6, 8])"
      ]
     },
     "execution_count": 4,
     "metadata": {},
     "output_type": "execute_result"
    }
   ],
   "source": [
    "#arange([start,] stop[, step,], dtype=None, *, like=None)\n",
    "np.arange(0,10,2)"
   ]
  },
  {
   "cell_type": "code",
   "execution_count": 5,
   "id": "7f471769",
   "metadata": {},
   "outputs": [
    {
     "data": {
      "text/plain": [
       "array([0., 0., 0., 0., 0.])"
      ]
     },
     "execution_count": 5,
     "metadata": {},
     "output_type": "execute_result"
    }
   ],
   "source": [
    "#Return a new array of given shape and type, filled with zeros.\n",
    "np.zeros(5)"
   ]
  },
  {
   "cell_type": "code",
   "execution_count": 6,
   "id": "28873c1b",
   "metadata": {},
   "outputs": [
    {
     "data": {
      "text/plain": [
       "array([[0., 0., 0.],\n",
       "       [0., 0., 0.],\n",
       "       [0., 0., 0.]])"
      ]
     },
     "execution_count": 6,
     "metadata": {},
     "output_type": "execute_result"
    }
   ],
   "source": [
    "np.zeros((3,3))"
   ]
  },
  {
   "cell_type": "code",
   "execution_count": 7,
   "id": "4835b261",
   "metadata": {},
   "outputs": [
    {
     "data": {
      "text/plain": [
       "array([1., 1., 1., 1., 1.])"
      ]
     },
     "execution_count": 7,
     "metadata": {},
     "output_type": "execute_result"
    }
   ],
   "source": [
    "#Return a new array of given shape and type, filled with ones.\n",
    "np.ones(5)"
   ]
  },
  {
   "cell_type": "code",
   "execution_count": 8,
   "id": "89ab673f",
   "metadata": {},
   "outputs": [
    {
     "data": {
      "text/plain": [
       "array([[1., 1., 1.],\n",
       "       [1., 1., 1.],\n",
       "       [1., 1., 1.]])"
      ]
     },
     "execution_count": 8,
     "metadata": {},
     "output_type": "execute_result"
    }
   ],
   "source": [
    "np.ones((3,3))"
   ]
  },
  {
   "cell_type": "code",
   "execution_count": 9,
   "id": "507830a7",
   "metadata": {},
   "outputs": [
    {
     "data": {
      "text/plain": [
       "array([0.        , 0.55555556, 1.11111111, 1.66666667, 2.22222222,\n",
       "       2.77777778, 3.33333333, 3.88888889, 4.44444444, 5.        ])"
      ]
     },
     "execution_count": 9,
     "metadata": {},
     "output_type": "execute_result"
    }
   ],
   "source": [
    "#Return evenly spaced numbers over a specified interval.\n",
    "np.linspace(0,5,10)"
   ]
  },
  {
   "cell_type": "code",
   "execution_count": 10,
   "id": "7e11652f",
   "metadata": {},
   "outputs": [
    {
     "data": {
      "text/plain": [
       "array([[1., 0., 0., 0.],\n",
       "       [0., 1., 0., 0.],\n",
       "       [0., 0., 1., 0.],\n",
       "       [0., 0., 0., 1.]])"
      ]
     },
     "execution_count": 10,
     "metadata": {},
     "output_type": "execute_result"
    }
   ],
   "source": [
    "#Return a 2-D array with ones on the diagonal and zeros elsewhere.\n",
    "np.eye(4)"
   ]
  },
  {
   "cell_type": "code",
   "execution_count": 11,
   "id": "6efa3bf7",
   "metadata": {},
   "outputs": [
    {
     "data": {
      "text/plain": [
       "array([0.47811617, 0.52983937, 0.47421228, 0.22033205, 0.00316265])"
      ]
     },
     "execution_count": 11,
     "metadata": {},
     "output_type": "execute_result"
    }
   ],
   "source": [
    "#Random values in a given shape.\n",
    "np.random.rand(5)"
   ]
  },
  {
   "cell_type": "code",
   "execution_count": 12,
   "id": "206cc88f",
   "metadata": {},
   "outputs": [
    {
     "data": {
      "text/plain": [
       "array([[0.83900776, 0.68083052, 0.63144291],\n",
       "       [0.03272038, 0.86220043, 0.79085422],\n",
       "       [0.7094986 , 0.92130549, 0.86470168]])"
      ]
     },
     "execution_count": 12,
     "metadata": {},
     "output_type": "execute_result"
    }
   ],
   "source": [
    "np.random.rand(3,3)"
   ]
  },
  {
   "cell_type": "code",
   "execution_count": 13,
   "id": "9139a8c6",
   "metadata": {},
   "outputs": [
    {
     "data": {
      "text/plain": [
       "array([-0.65549626,  1.16888576, -0.9010442 , -0.52110543,  0.84871515])"
      ]
     },
     "execution_count": 13,
     "metadata": {},
     "output_type": "execute_result"
    }
   ],
   "source": [
    "#Return a sample (or samples) from the \"standard normal\" distribution.\n",
    "np.random.randn(5)"
   ]
  },
  {
   "cell_type": "code",
   "execution_count": 14,
   "id": "81ecd687",
   "metadata": {},
   "outputs": [
    {
     "data": {
      "text/plain": [
       "array([[-0.82621553,  0.7477725 , -1.37497839,  0.73271477,  0.6424373 ],\n",
       "       [ 0.07856872, -0.37992973, -0.65913543, -0.44490133,  0.74313711],\n",
       "       [-1.32614809,  0.23979764, -0.31717894,  1.26687988, -0.35220322],\n",
       "       [-1.53066423,  1.83584469, -1.08477578,  2.63209385, -0.53413699]])"
      ]
     },
     "execution_count": 14,
     "metadata": {},
     "output_type": "execute_result"
    }
   ],
   "source": [
    "np.random.randn(4,5)"
   ]
  },
  {
   "cell_type": "code",
   "execution_count": 15,
   "id": "d534d231",
   "metadata": {},
   "outputs": [
    {
     "data": {
      "text/plain": [
       "array([38, 36, 20, 47,  8,  4, 43, 29,  8, 19])"
      ]
     },
     "execution_count": 15,
     "metadata": {},
     "output_type": "execute_result"
    }
   ],
   "source": [
    "ranarr = np.random.randint(0,50,10)\n",
    "ranarr"
   ]
  },
  {
   "cell_type": "code",
   "execution_count": 16,
   "id": "59cc7123",
   "metadata": {},
   "outputs": [
    {
     "data": {
      "text/plain": [
       "array([ 0,  1,  2,  3,  4,  5,  6,  7,  8,  9, 10, 11, 12, 13, 14, 15, 16,\n",
       "       17, 18, 19, 20, 21, 22, 23, 24])"
      ]
     },
     "execution_count": 16,
     "metadata": {},
     "output_type": "execute_result"
    }
   ],
   "source": [
    "ar = np.arange(25)\n",
    "ar"
   ]
  },
  {
   "cell_type": "code",
   "execution_count": 17,
   "id": "99325992",
   "metadata": {},
   "outputs": [
    {
     "data": {
      "text/plain": [
       "array([[ 0,  1,  2,  3,  4],\n",
       "       [ 5,  6,  7,  8,  9],\n",
       "       [10, 11, 12, 13, 14],\n",
       "       [15, 16, 17, 18, 19],\n",
       "       [20, 21, 22, 23, 24]])"
      ]
     },
     "execution_count": 17,
     "metadata": {},
     "output_type": "execute_result"
    }
   ],
   "source": [
    "ar.reshape(5,5)"
   ]
  },
  {
   "cell_type": "code",
   "execution_count": 18,
   "id": "40334847",
   "metadata": {},
   "outputs": [
    {
     "data": {
      "text/plain": [
       "47"
      ]
     },
     "execution_count": 18,
     "metadata": {},
     "output_type": "execute_result"
    }
   ],
   "source": [
    "ranarr.max()"
   ]
  },
  {
   "cell_type": "code",
   "execution_count": 19,
   "id": "bff6f043",
   "metadata": {},
   "outputs": [
    {
     "data": {
      "text/plain": [
       "4"
      ]
     },
     "execution_count": 19,
     "metadata": {},
     "output_type": "execute_result"
    }
   ],
   "source": [
    "ranarr.min()"
   ]
  },
  {
   "cell_type": "code",
   "execution_count": 20,
   "id": "9177f563",
   "metadata": {},
   "outputs": [
    {
     "data": {
      "text/plain": [
       "array([ 0,  1,  2,  3,  4,  5,  6,  7,  8,  9, 10, 11, 12, 13, 14, 15, 16,\n",
       "       17, 18, 19, 20, 21, 22, 23, 24])"
      ]
     },
     "execution_count": 20,
     "metadata": {},
     "output_type": "execute_result"
    }
   ],
   "source": [
    "ar.ravel()#Flattens the array."
   ]
  },
  {
   "cell_type": "code",
   "execution_count": 23,
   "id": "99b02818",
   "metadata": {},
   "outputs": [
    {
     "data": {
      "text/plain": [
       "array([10, 11, 12, 13, 14, 15, 16, 17, 18, 19])"
      ]
     },
     "execution_count": 23,
     "metadata": {},
     "output_type": "execute_result"
    }
   ],
   "source": [
    "#Shows how the two array stack together.\n",
    "ar1 = np.array([10,11,12,13,14])\n",
    "ar2 = np.array([15,16,17,18,19])\n",
    "np.hstack((ar1,ar2))"
   ]
  },
  {
   "cell_type": "code",
   "execution_count": 24,
   "id": "90ef4348",
   "metadata": {},
   "outputs": [
    {
     "data": {
      "text/plain": [
       "array([[0.83900776, 0.68083052, 0.63144291],\n",
       "       [0.03272038, 0.86220043, 0.79085422],\n",
       "       [0.7094986 , 0.92130549, 0.86470168]])"
      ]
     },
     "execution_count": 24,
     "metadata": {},
     "output_type": "execute_result"
    }
   ],
   "source": [
    "#Array with empty()\n",
    "br = np.empty((3,3))\n",
    "br"
   ]
  },
  {
   "cell_type": "code",
   "execution_count": null,
   "id": "7e989e32",
   "metadata": {},
   "outputs": [],
   "source": [
    "#argmin will return position of min element in an array.\n",
    "ranarr.argmin()"
   ]
  },
  {
   "cell_type": "code",
   "execution_count": null,
   "id": "9af14e7d",
   "metadata": {},
   "outputs": [],
   "source": [
    "#argmax will return position of max element in an array.\n",
    "ranarr.argmax()"
   ]
  },
  {
   "cell_type": "code",
   "execution_count": null,
   "id": "0959ab15",
   "metadata": {},
   "outputs": [],
   "source": [
    "arra = ar.reshape(5,5)"
   ]
  },
  {
   "cell_type": "code",
   "execution_count": null,
   "id": "43b63d00",
   "metadata": {},
   "outputs": [],
   "source": [
    "arra"
   ]
  },
  {
   "cell_type": "code",
   "execution_count": null,
   "id": "d24ec876",
   "metadata": {},
   "outputs": [],
   "source": [
    "arra.shape"
   ]
  },
  {
   "cell_type": "code",
   "execution_count": null,
   "id": "5c685a3f",
   "metadata": {},
   "outputs": [],
   "source": [
    "arra.dtype"
   ]
  },
  {
   "cell_type": "code",
   "execution_count": null,
   "id": "6ed4bc89",
   "metadata": {},
   "outputs": [],
   "source": [
    "from numpy.random import randint\n",
    "randint(0,10,5)"
   ]
  },
  {
   "cell_type": "markdown",
   "id": "f3797d11",
   "metadata": {},
   "source": [
    "# Numpy Indexing and Selection."
   ]
  },
  {
   "cell_type": "code",
   "execution_count": null,
   "id": "5e9e5a32",
   "metadata": {},
   "outputs": [],
   "source": [
    "num = np.arange(0,11)\n",
    "num"
   ]
  },
  {
   "cell_type": "code",
   "execution_count": null,
   "id": "5d20d3a1",
   "metadata": {},
   "outputs": [],
   "source": [
    "num[8]"
   ]
  },
  {
   "cell_type": "code",
   "execution_count": null,
   "id": "21fe85a7",
   "metadata": {},
   "outputs": [],
   "source": [
    "num[0:8]"
   ]
  },
  {
   "cell_type": "code",
   "execution_count": null,
   "id": "6ec71142",
   "metadata": {},
   "outputs": [],
   "source": [
    "num[:]"
   ]
  },
  {
   "cell_type": "code",
   "execution_count": null,
   "id": "f981360b",
   "metadata": {},
   "outputs": [],
   "source": [
    "num[5:10]"
   ]
  },
  {
   "cell_type": "code",
   "execution_count": null,
   "id": "b761c934",
   "metadata": {},
   "outputs": [],
   "source": [
    "num[0:5] = 100"
   ]
  },
  {
   "cell_type": "code",
   "execution_count": null,
   "id": "664674ac",
   "metadata": {},
   "outputs": [],
   "source": [
    "num"
   ]
  },
  {
   "cell_type": "code",
   "execution_count": null,
   "id": "506f54c0",
   "metadata": {},
   "outputs": [],
   "source": [
    "ary = np.arange(0,11)"
   ]
  },
  {
   "cell_type": "code",
   "execution_count": null,
   "id": "09c74301",
   "metadata": {},
   "outputs": [],
   "source": [
    "ary"
   ]
  },
  {
   "cell_type": "code",
   "execution_count": null,
   "id": "9aed624b",
   "metadata": {},
   "outputs": [],
   "source": [
    "#Copy the element of ary in arr_copy\n",
    "arr_copy = ary.copy()\n",
    "arr_copy"
   ]
  },
  {
   "cell_type": "code",
   "execution_count": null,
   "id": "a0c49d20",
   "metadata": {},
   "outputs": [],
   "source": [
    "arr_copy[:] = 100\n"
   ]
  },
  {
   "cell_type": "code",
   "execution_count": null,
   "id": "e71e1699",
   "metadata": {},
   "outputs": [],
   "source": [
    "arr_copy"
   ]
  },
  {
   "cell_type": "code",
   "execution_count": null,
   "id": "b2f1320b",
   "metadata": {},
   "outputs": [],
   "source": [
    "ary"
   ]
  },
  {
   "cell_type": "markdown",
   "id": "8ec2696c",
   "metadata": {},
   "source": [
    "# 2-Dimensional array indexing or slicing."
   ]
  },
  {
   "cell_type": "code",
   "execution_count": null,
   "id": "40f10a0f",
   "metadata": {},
   "outputs": [],
   "source": [
    "arr_2d = np.array([[34,566,790, 78, 90], [44,65,63,78,56], [723,843,96,10,90]])\n",
    "arr_2d"
   ]
  },
  {
   "cell_type": "code",
   "execution_count": null,
   "id": "4ba06889",
   "metadata": {
    "scrolled": true
   },
   "outputs": [],
   "source": [
    "arr_2d[1][2]                               "
   ]
  },
  {
   "cell_type": "code",
   "execution_count": null,
   "id": "0630ab16",
   "metadata": {},
   "outputs": [],
   "source": [
    "arr_2d[1,2]"
   ]
  },
  {
   "cell_type": "code",
   "execution_count": null,
   "id": "91e5ef3c",
   "metadata": {},
   "outputs": [],
   "source": [
    "arr_2d[2,2]"
   ]
  },
  {
   "cell_type": "code",
   "execution_count": null,
   "id": "cef9cb56",
   "metadata": {},
   "outputs": [],
   "source": [
    "arr_2d[:1, 1:2]"
   ]
  },
  {
   "cell_type": "code",
   "execution_count": null,
   "id": "8d69c794",
   "metadata": {},
   "outputs": [],
   "source": [
    "arr_2d[1:, :2]"
   ]
  },
  {
   "cell_type": "code",
   "execution_count": null,
   "id": "98e643f7",
   "metadata": {},
   "outputs": [],
   "source": [
    "arr_2d[:2, :2]"
   ]
  },
  {
   "cell_type": "code",
   "execution_count": null,
   "id": "dfee2024",
   "metadata": {},
   "outputs": [],
   "source": [
    "arr_2d[1:2, :]"
   ]
  },
  {
   "cell_type": "code",
   "execution_count": null,
   "id": "2a9d0dde",
   "metadata": {},
   "outputs": [],
   "source": [
    "arr_2d[:]"
   ]
  },
  {
   "cell_type": "code",
   "execution_count": null,
   "id": "c3b5d9c0",
   "metadata": {},
   "outputs": [],
   "source": [
    "arr_2d[1:,1:]"
   ]
  },
  {
   "cell_type": "code",
   "execution_count": null,
   "id": "88a7a2ad",
   "metadata": {},
   "outputs": [],
   "source": [
    "arr_2d[:2,:]"
   ]
  },
  {
   "cell_type": "code",
   "execution_count": null,
   "id": "a3ebac70",
   "metadata": {},
   "outputs": [],
   "source": [
    "aar = np.arange(1,11)\n",
    "aar"
   ]
  },
  {
   "cell_type": "code",
   "execution_count": null,
   "id": "cb2973cd",
   "metadata": {},
   "outputs": [],
   "source": [
    "bool_arr = aar>5"
   ]
  },
  {
   "cell_type": "code",
   "execution_count": null,
   "id": "d3286182",
   "metadata": {},
   "outputs": [],
   "source": [
    "bool_arr"
   ]
  },
  {
   "cell_type": "code",
   "execution_count": null,
   "id": "765d1817",
   "metadata": {},
   "outputs": [],
   "source": [
    "aar[bool_arr]"
   ]
  },
  {
   "cell_type": "code",
   "execution_count": null,
   "id": "03bf76b1",
   "metadata": {},
   "outputs": [],
   "source": [
    "aar[aar>2]"
   ]
  },
  {
   "cell_type": "code",
   "execution_count": null,
   "id": "5d25e641",
   "metadata": {},
   "outputs": [],
   "source": [
    "aar[aar<5]"
   ]
  },
  {
   "cell_type": "code",
   "execution_count": null,
   "id": "590636fd",
   "metadata": {},
   "outputs": [],
   "source": [
    "arr_5d = np.arange(50).reshape(5,10)"
   ]
  },
  {
   "cell_type": "code",
   "execution_count": null,
   "id": "fad627d4",
   "metadata": {},
   "outputs": [],
   "source": [
    "arr_5d"
   ]
  },
  {
   "cell_type": "code",
   "execution_count": null,
   "id": "2c2d3a57",
   "metadata": {},
   "outputs": [],
   "source": [
    "arr_5d[1:, 1:3]"
   ]
  },
  {
   "cell_type": "code",
   "execution_count": null,
   "id": "4a64bf2c",
   "metadata": {},
   "outputs": [],
   "source": [
    "arr_5d[3:, 6:8]"
   ]
  },
  {
   "cell_type": "markdown",
   "id": "01fe8936",
   "metadata": {},
   "source": [
    "# Array Operations."
   ]
  },
  {
   "cell_type": "code",
   "execution_count": null,
   "id": "31109c3f",
   "metadata": {},
   "outputs": [],
   "source": [
    "brr = np.arange(1,11)\n",
    "brr"
   ]
  },
  {
   "cell_type": "code",
   "execution_count": null,
   "id": "c27c726b",
   "metadata": {},
   "outputs": [],
   "source": [
    "brr + brr"
   ]
  },
  {
   "cell_type": "code",
   "execution_count": null,
   "id": "06fe5aca",
   "metadata": {},
   "outputs": [],
   "source": [
    "brr - brr"
   ]
  },
  {
   "cell_type": "code",
   "execution_count": null,
   "id": "887db717",
   "metadata": {},
   "outputs": [],
   "source": [
    "brr * brr"
   ]
  },
  {
   "cell_type": "code",
   "execution_count": null,
   "id": "b8bb152e",
   "metadata": {},
   "outputs": [],
   "source": [
    "brr / brr"
   ]
  },
  {
   "cell_type": "code",
   "execution_count": null,
   "id": "28c821a4",
   "metadata": {},
   "outputs": [],
   "source": [
    "brr + 100"
   ]
  },
  {
   "cell_type": "code",
   "execution_count": null,
   "id": "dc694069",
   "metadata": {},
   "outputs": [],
   "source": [
    "np.sqrt(brr)"
   ]
  },
  {
   "cell_type": "code",
   "execution_count": null,
   "id": "506de38b",
   "metadata": {},
   "outputs": [],
   "source": [
    "brr ** 2"
   ]
  },
  {
   "cell_type": "code",
   "execution_count": null,
   "id": "028e8bd7",
   "metadata": {},
   "outputs": [],
   "source": [
    "np.exp(brr)"
   ]
  },
  {
   "cell_type": "code",
   "execution_count": null,
   "id": "4727d76c",
   "metadata": {},
   "outputs": [],
   "source": [
    "brr.max()"
   ]
  },
  {
   "cell_type": "code",
   "execution_count": null,
   "id": "8cedb878",
   "metadata": {},
   "outputs": [],
   "source": [
    "np.sin(brr)"
   ]
  },
  {
   "cell_type": "code",
   "execution_count": null,
   "id": "84dc5962",
   "metadata": {},
   "outputs": [],
   "source": [
    "np.random.randn(25)"
   ]
  },
  {
   "cell_type": "code",
   "execution_count": null,
   "id": "2dc3b946",
   "metadata": {},
   "outputs": [],
   "source": [
    "np.linspace(0,1,20)"
   ]
  },
  {
   "cell_type": "code",
   "execution_count": null,
   "id": "d2a7380c",
   "metadata": {},
   "outputs": [],
   "source": [
    "mat = np.arange(1,26).reshape(5,5)\n",
    "mat"
   ]
  },
  {
   "cell_type": "code",
   "execution_count": null,
   "id": "e4939a19",
   "metadata": {},
   "outputs": [],
   "source": [
    "mat[2:, 1:]"
   ]
  },
  {
   "cell_type": "code",
   "execution_count": null,
   "id": "441640ee",
   "metadata": {},
   "outputs": [],
   "source": [
    "crr = mat[3:4, 4]\n",
    "crr[0]"
   ]
  },
  {
   "cell_type": "code",
   "execution_count": null,
   "id": "24773526",
   "metadata": {},
   "outputs": [],
   "source": [
    "mat[0:3,1:2]"
   ]
  },
  {
   "cell_type": "code",
   "execution_count": null,
   "id": "29a23253",
   "metadata": {},
   "outputs": [],
   "source": [
    "mat[4, :]"
   ]
  },
  {
   "cell_type": "code",
   "execution_count": null,
   "id": "9c8cec12",
   "metadata": {},
   "outputs": [],
   "source": [
    "mat[3:, :]"
   ]
  },
  {
   "cell_type": "code",
   "execution_count": null,
   "id": "2460929c",
   "metadata": {},
   "outputs": [],
   "source": [
    "np.sum(mat)\n"
   ]
  },
  {
   "cell_type": "code",
   "execution_count": null,
   "id": "0663ac9a",
   "metadata": {},
   "outputs": [],
   "source": [
    "col = np.sum(mat, axis = 0)"
   ]
  },
  {
   "cell_type": "code",
   "execution_count": null,
   "id": "5b2968ce",
   "metadata": {},
   "outputs": [],
   "source": [
    "col"
   ]
  },
  {
   "cell_type": "code",
   "execution_count": null,
   "id": "fbc5d3ab",
   "metadata": {},
   "outputs": [],
   "source": [
    "np.std(mat, dtype = np.float64)"
   ]
  },
  {
   "cell_type": "code",
   "execution_count": null,
   "id": "4d19be37",
   "metadata": {},
   "outputs": [],
   "source": [
    "np.std(mat)"
   ]
  },
  {
   "cell_type": "code",
   "execution_count": null,
   "id": "8bcc59e8",
   "metadata": {},
   "outputs": [],
   "source": [
    "c = np.linspace(0,1,11)\n",
    "c\n"
   ]
  },
  {
   "cell_type": "code",
   "execution_count": null,
   "id": "90d38ff6",
   "metadata": {},
   "outputs": [],
   "source": [
    "np.arange(1,101).reshape(10,10)/100"
   ]
  },
  {
   "cell_type": "code",
   "execution_count": null,
   "id": "02924d3e",
   "metadata": {},
   "outputs": [],
   "source": [
    "np.random.rand(1)"
   ]
  }
 ],
 "metadata": {
  "kernelspec": {
   "display_name": "Python 3 (ipykernel)",
   "language": "python",
   "name": "python3"
  },
  "language_info": {
   "codemirror_mode": {
    "name": "ipython",
    "version": 3
   },
   "file_extension": ".py",
   "mimetype": "text/x-python",
   "name": "python",
   "nbconvert_exporter": "python",
   "pygments_lexer": "ipython3",
   "version": "3.10.1"
  }
 },
 "nbformat": 4,
 "nbformat_minor": 5
}
