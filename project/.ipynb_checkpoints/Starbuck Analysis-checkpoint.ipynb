{
 "cells": [
  {
   "cell_type": "markdown",
   "id": "780b1c65",
   "metadata": {},
   "source": [
    "# Starbucks Nutrition Detail"
   ]
  },
  {
   "cell_type": "markdown",
   "id": "0933ffa7",
   "metadata": {},
   "source": [
    "# About Dataset"
   ]
  },
  {
   "cell_type": "markdown",
   "id": "cc9069db",
   "metadata": {},
   "source": [
    "# Description\n",
    "Nutrition facts for several Starbucks food items. item Food item.\n",
    "\n",
    "calories Calories.\n",
    "\n",
    "fat a numeric vector\n",
    "\n",
    "carb a numeric vector\n",
    "\n",
    "fiber a numeric vector\n",
    "\n",
    "protein a numeric vector\n",
    "\n",
    "type a factor with levels bakery, bistro box, hot breakfast, parfait, petite, salad, and sandwich"
   ]
  },
  {
   "cell_type": "code",
   "execution_count": 1,
   "id": "e2a3e7e9",
   "metadata": {},
   "outputs": [],
   "source": [
    "import pandas as pd"
   ]
  },
  {
   "cell_type": "code",
   "execution_count": 2,
   "id": "78b97b6c",
   "metadata": {},
   "outputs": [],
   "source": [
    "import numpy as np"
   ]
  },
  {
   "cell_type": "code",
   "execution_count": 3,
   "id": "eb2112c6",
   "metadata": {},
   "outputs": [],
   "source": [
    "import matplotlib.pyplot as plt\n",
    "%matplotlib inline"
   ]
  },
  {
   "cell_type": "code",
   "execution_count": 4,
   "id": "9f651596",
   "metadata": {},
   "outputs": [],
   "source": [
    "import seaborn as sn"
   ]
  },
  {
   "cell_type": "markdown",
   "id": "15db3128",
   "metadata": {},
   "source": [
    "# Read the data"
   ]
  },
  {
   "cell_type": "code",
   "execution_count": 5,
   "id": "f02ed133",
   "metadata": {},
   "outputs": [],
   "source": [
    "star = pd.read_csv('starbucks.csv')"
   ]
  },
  {
   "cell_type": "code",
   "execution_count": 6,
   "id": "70027492",
   "metadata": {},
   "outputs": [
    {
     "data": {
      "text/html": [
       "<div>\n",
       "<style scoped>\n",
       "    .dataframe tbody tr th:only-of-type {\n",
       "        vertical-align: middle;\n",
       "    }\n",
       "\n",
       "    .dataframe tbody tr th {\n",
       "        vertical-align: top;\n",
       "    }\n",
       "\n",
       "    .dataframe thead th {\n",
       "        text-align: right;\n",
       "    }\n",
       "</style>\n",
       "<table border=\"1\" class=\"dataframe\">\n",
       "  <thead>\n",
       "    <tr style=\"text-align: right;\">\n",
       "      <th></th>\n",
       "      <th>Unnamed: 0</th>\n",
       "      <th>item</th>\n",
       "      <th>calories</th>\n",
       "      <th>fat</th>\n",
       "      <th>carb</th>\n",
       "      <th>fiber</th>\n",
       "      <th>protein</th>\n",
       "      <th>type</th>\n",
       "    </tr>\n",
       "  </thead>\n",
       "  <tbody>\n",
       "    <tr>\n",
       "      <th>0</th>\n",
       "      <td>1</td>\n",
       "      <td>8-Grain Roll</td>\n",
       "      <td>350</td>\n",
       "      <td>8.0</td>\n",
       "      <td>67</td>\n",
       "      <td>5</td>\n",
       "      <td>10</td>\n",
       "      <td>bakery</td>\n",
       "    </tr>\n",
       "    <tr>\n",
       "      <th>1</th>\n",
       "      <td>2</td>\n",
       "      <td>Apple Bran Muffin</td>\n",
       "      <td>350</td>\n",
       "      <td>9.0</td>\n",
       "      <td>64</td>\n",
       "      <td>7</td>\n",
       "      <td>6</td>\n",
       "      <td>bakery</td>\n",
       "    </tr>\n",
       "    <tr>\n",
       "      <th>2</th>\n",
       "      <td>3</td>\n",
       "      <td>Apple Fritter</td>\n",
       "      <td>420</td>\n",
       "      <td>20.0</td>\n",
       "      <td>59</td>\n",
       "      <td>0</td>\n",
       "      <td>5</td>\n",
       "      <td>bakery</td>\n",
       "    </tr>\n",
       "    <tr>\n",
       "      <th>3</th>\n",
       "      <td>4</td>\n",
       "      <td>Banana Nut Loaf</td>\n",
       "      <td>490</td>\n",
       "      <td>19.0</td>\n",
       "      <td>75</td>\n",
       "      <td>4</td>\n",
       "      <td>7</td>\n",
       "      <td>bakery</td>\n",
       "    </tr>\n",
       "    <tr>\n",
       "      <th>4</th>\n",
       "      <td>5</td>\n",
       "      <td>Birthday Cake Mini Doughnut</td>\n",
       "      <td>130</td>\n",
       "      <td>6.0</td>\n",
       "      <td>17</td>\n",
       "      <td>0</td>\n",
       "      <td>0</td>\n",
       "      <td>bakery</td>\n",
       "    </tr>\n",
       "  </tbody>\n",
       "</table>\n",
       "</div>"
      ],
      "text/plain": [
       "   Unnamed: 0                         item  calories   fat  carb  fiber  \\\n",
       "0           1                 8-Grain Roll       350   8.0    67      5   \n",
       "1           2            Apple Bran Muffin       350   9.0    64      7   \n",
       "2           3                Apple Fritter       420  20.0    59      0   \n",
       "3           4              Banana Nut Loaf       490  19.0    75      4   \n",
       "4           5  Birthday Cake Mini Doughnut       130   6.0    17      0   \n",
       "\n",
       "   protein    type  \n",
       "0       10  bakery  \n",
       "1        6  bakery  \n",
       "2        5  bakery  \n",
       "3        7  bakery  \n",
       "4        0  bakery  "
      ]
     },
     "execution_count": 6,
     "metadata": {},
     "output_type": "execute_result"
    }
   ],
   "source": [
    "star.head()"
   ]
  },
  {
   "cell_type": "code",
   "execution_count": 7,
   "id": "3c041806",
   "metadata": {},
   "outputs": [
    {
     "name": "stdout",
     "output_type": "stream",
     "text": [
      "<class 'pandas.core.frame.DataFrame'>\n",
      "RangeIndex: 77 entries, 0 to 76\n",
      "Data columns (total 8 columns):\n",
      " #   Column      Non-Null Count  Dtype  \n",
      "---  ------      --------------  -----  \n",
      " 0   Unnamed: 0  77 non-null     int64  \n",
      " 1   item        77 non-null     object \n",
      " 2   calories    77 non-null     int64  \n",
      " 3   fat         77 non-null     float64\n",
      " 4   carb        77 non-null     int64  \n",
      " 5   fiber       77 non-null     int64  \n",
      " 6   protein     77 non-null     int64  \n",
      " 7   type        77 non-null     object \n",
      "dtypes: float64(1), int64(5), object(2)\n",
      "memory usage: 4.9+ KB\n"
     ]
    }
   ],
   "source": [
    "star.info()"
   ]
  },
  {
   "cell_type": "code",
   "execution_count": 8,
   "id": "2e55d6a6",
   "metadata": {},
   "outputs": [
    {
     "data": {
      "text/plain": [
       "(77, 8)"
      ]
     },
     "execution_count": 8,
     "metadata": {},
     "output_type": "execute_result"
    }
   ],
   "source": [
    "star.shape"
   ]
  },
  {
   "cell_type": "code",
   "execution_count": 14,
   "id": "907eb553",
   "metadata": {},
   "outputs": [
    {
     "data": {
      "text/html": [
       "<div>\n",
       "<style scoped>\n",
       "    .dataframe tbody tr th:only-of-type {\n",
       "        vertical-align: middle;\n",
       "    }\n",
       "\n",
       "    .dataframe tbody tr th {\n",
       "        vertical-align: top;\n",
       "    }\n",
       "\n",
       "    .dataframe thead th {\n",
       "        text-align: right;\n",
       "    }\n",
       "</style>\n",
       "<table border=\"1\" class=\"dataframe\">\n",
       "  <thead>\n",
       "    <tr style=\"text-align: right;\">\n",
       "      <th></th>\n",
       "      <th>Unnamed: 0</th>\n",
       "      <th>calories</th>\n",
       "      <th>fat</th>\n",
       "      <th>carb</th>\n",
       "      <th>fiber</th>\n",
       "      <th>protein</th>\n",
       "    </tr>\n",
       "  </thead>\n",
       "  <tbody>\n",
       "    <tr>\n",
       "      <th>count</th>\n",
       "      <td>77.000000</td>\n",
       "      <td>77.000000</td>\n",
       "      <td>77.000000</td>\n",
       "      <td>77.000000</td>\n",
       "      <td>77.000000</td>\n",
       "      <td>77.000000</td>\n",
       "    </tr>\n",
       "    <tr>\n",
       "      <th>mean</th>\n",
       "      <td>39.000000</td>\n",
       "      <td>338.831169</td>\n",
       "      <td>13.766234</td>\n",
       "      <td>44.870130</td>\n",
       "      <td>2.220779</td>\n",
       "      <td>9.480519</td>\n",
       "    </tr>\n",
       "    <tr>\n",
       "      <th>std</th>\n",
       "      <td>22.371857</td>\n",
       "      <td>105.368701</td>\n",
       "      <td>7.095488</td>\n",
       "      <td>16.551634</td>\n",
       "      <td>2.112764</td>\n",
       "      <td>8.079556</td>\n",
       "    </tr>\n",
       "    <tr>\n",
       "      <th>min</th>\n",
       "      <td>1.000000</td>\n",
       "      <td>80.000000</td>\n",
       "      <td>0.000000</td>\n",
       "      <td>16.000000</td>\n",
       "      <td>0.000000</td>\n",
       "      <td>0.000000</td>\n",
       "    </tr>\n",
       "    <tr>\n",
       "      <th>25%</th>\n",
       "      <td>20.000000</td>\n",
       "      <td>300.000000</td>\n",
       "      <td>9.000000</td>\n",
       "      <td>31.000000</td>\n",
       "      <td>0.000000</td>\n",
       "      <td>5.000000</td>\n",
       "    </tr>\n",
       "    <tr>\n",
       "      <th>50%</th>\n",
       "      <td>39.000000</td>\n",
       "      <td>350.000000</td>\n",
       "      <td>13.000000</td>\n",
       "      <td>45.000000</td>\n",
       "      <td>2.000000</td>\n",
       "      <td>7.000000</td>\n",
       "    </tr>\n",
       "    <tr>\n",
       "      <th>75%</th>\n",
       "      <td>58.000000</td>\n",
       "      <td>420.000000</td>\n",
       "      <td>18.000000</td>\n",
       "      <td>59.000000</td>\n",
       "      <td>4.000000</td>\n",
       "      <td>15.000000</td>\n",
       "    </tr>\n",
       "    <tr>\n",
       "      <th>max</th>\n",
       "      <td>77.000000</td>\n",
       "      <td>500.000000</td>\n",
       "      <td>28.000000</td>\n",
       "      <td>80.000000</td>\n",
       "      <td>7.000000</td>\n",
       "      <td>34.000000</td>\n",
       "    </tr>\n",
       "  </tbody>\n",
       "</table>\n",
       "</div>"
      ],
      "text/plain": [
       "       Unnamed: 0    calories        fat       carb      fiber    protein\n",
       "count   77.000000   77.000000  77.000000  77.000000  77.000000  77.000000\n",
       "mean    39.000000  338.831169  13.766234  44.870130   2.220779   9.480519\n",
       "std     22.371857  105.368701   7.095488  16.551634   2.112764   8.079556\n",
       "min      1.000000   80.000000   0.000000  16.000000   0.000000   0.000000\n",
       "25%     20.000000  300.000000   9.000000  31.000000   0.000000   5.000000\n",
       "50%     39.000000  350.000000  13.000000  45.000000   2.000000   7.000000\n",
       "75%     58.000000  420.000000  18.000000  59.000000   4.000000  15.000000\n",
       "max     77.000000  500.000000  28.000000  80.000000   7.000000  34.000000"
      ]
     },
     "execution_count": 14,
     "metadata": {},
     "output_type": "execute_result"
    }
   ],
   "source": [
    "star.describe()"
   ]
  },
  {
   "cell_type": "markdown",
   "id": "e4f161e0",
   "metadata": {},
   "source": [
    "# Checks Column"
   ]
  },
  {
   "cell_type": "code",
   "execution_count": 16,
   "id": "cecd1a2f",
   "metadata": {},
   "outputs": [
    {
     "data": {
      "text/plain": [
       "Index(['Unnamed: 0', 'item', 'calories', 'fat', 'carb', 'fiber', 'protein',\n",
       "       'type'],\n",
       "      dtype='object')"
      ]
     },
     "execution_count": 16,
     "metadata": {},
     "output_type": "execute_result"
    }
   ],
   "source": [
    "star.columns"
   ]
  },
  {
   "cell_type": "code",
   "execution_count": 17,
   "id": "892cbad1",
   "metadata": {},
   "outputs": [
    {
     "data": {
      "text/html": [
       "<div>\n",
       "<style scoped>\n",
       "    .dataframe tbody tr th:only-of-type {\n",
       "        vertical-align: middle;\n",
       "    }\n",
       "\n",
       "    .dataframe tbody tr th {\n",
       "        vertical-align: top;\n",
       "    }\n",
       "\n",
       "    .dataframe thead th {\n",
       "        text-align: right;\n",
       "    }\n",
       "</style>\n",
       "<table border=\"1\" class=\"dataframe\">\n",
       "  <thead>\n",
       "    <tr style=\"text-align: right;\">\n",
       "      <th></th>\n",
       "      <th>count</th>\n",
       "      <th>mean</th>\n",
       "      <th>std</th>\n",
       "      <th>min</th>\n",
       "      <th>25%</th>\n",
       "      <th>50%</th>\n",
       "      <th>75%</th>\n",
       "      <th>max</th>\n",
       "    </tr>\n",
       "  </thead>\n",
       "  <tbody>\n",
       "    <tr>\n",
       "      <th>Unnamed: 0</th>\n",
       "      <td>77.0</td>\n",
       "      <td>39.000000</td>\n",
       "      <td>22.371857</td>\n",
       "      <td>1.0</td>\n",
       "      <td>20.0</td>\n",
       "      <td>39.0</td>\n",
       "      <td>58.0</td>\n",
       "      <td>77.0</td>\n",
       "    </tr>\n",
       "    <tr>\n",
       "      <th>calories</th>\n",
       "      <td>77.0</td>\n",
       "      <td>338.831169</td>\n",
       "      <td>105.368701</td>\n",
       "      <td>80.0</td>\n",
       "      <td>300.0</td>\n",
       "      <td>350.0</td>\n",
       "      <td>420.0</td>\n",
       "      <td>500.0</td>\n",
       "    </tr>\n",
       "    <tr>\n",
       "      <th>fat</th>\n",
       "      <td>77.0</td>\n",
       "      <td>13.766234</td>\n",
       "      <td>7.095488</td>\n",
       "      <td>0.0</td>\n",
       "      <td>9.0</td>\n",
       "      <td>13.0</td>\n",
       "      <td>18.0</td>\n",
       "      <td>28.0</td>\n",
       "    </tr>\n",
       "    <tr>\n",
       "      <th>carb</th>\n",
       "      <td>77.0</td>\n",
       "      <td>44.870130</td>\n",
       "      <td>16.551634</td>\n",
       "      <td>16.0</td>\n",
       "      <td>31.0</td>\n",
       "      <td>45.0</td>\n",
       "      <td>59.0</td>\n",
       "      <td>80.0</td>\n",
       "    </tr>\n",
       "    <tr>\n",
       "      <th>fiber</th>\n",
       "      <td>77.0</td>\n",
       "      <td>2.220779</td>\n",
       "      <td>2.112764</td>\n",
       "      <td>0.0</td>\n",
       "      <td>0.0</td>\n",
       "      <td>2.0</td>\n",
       "      <td>4.0</td>\n",
       "      <td>7.0</td>\n",
       "    </tr>\n",
       "    <tr>\n",
       "      <th>protein</th>\n",
       "      <td>77.0</td>\n",
       "      <td>9.480519</td>\n",
       "      <td>8.079556</td>\n",
       "      <td>0.0</td>\n",
       "      <td>5.0</td>\n",
       "      <td>7.0</td>\n",
       "      <td>15.0</td>\n",
       "      <td>34.0</td>\n",
       "    </tr>\n",
       "  </tbody>\n",
       "</table>\n",
       "</div>"
      ],
      "text/plain": [
       "            count        mean         std   min    25%    50%    75%    max\n",
       "Unnamed: 0   77.0   39.000000   22.371857   1.0   20.0   39.0   58.0   77.0\n",
       "calories     77.0  338.831169  105.368701  80.0  300.0  350.0  420.0  500.0\n",
       "fat          77.0   13.766234    7.095488   0.0    9.0   13.0   18.0   28.0\n",
       "carb         77.0   44.870130   16.551634  16.0   31.0   45.0   59.0   80.0\n",
       "fiber        77.0    2.220779    2.112764   0.0    0.0    2.0    4.0    7.0\n",
       "protein      77.0    9.480519    8.079556   0.0    5.0    7.0   15.0   34.0"
      ]
     },
     "execution_count": 17,
     "metadata": {},
     "output_type": "execute_result"
    }
   ],
   "source": [
    "star.describe().transpose()"
   ]
  },
  {
   "cell_type": "markdown",
   "id": "6127b61d",
   "metadata": {},
   "source": [
    "# Items in store"
   ]
  },
  {
   "cell_type": "code",
   "execution_count": 19,
   "id": "73e85106",
   "metadata": {},
   "outputs": [
    {
     "data": {
      "text/plain": [
       "77"
      ]
     },
     "execution_count": 19,
     "metadata": {},
     "output_type": "execute_result"
    }
   ],
   "source": [
    "star['item'].nunique()"
   ]
  },
  {
   "cell_type": "code",
   "execution_count": null,
   "id": "2ed6e3b4",
   "metadata": {},
   "outputs": [],
   "source": []
  },
  {
   "cell_type": "markdown",
   "id": "79b84098",
   "metadata": {},
   "source": [
    "# Data Cleaning"
   ]
  },
  {
   "cell_type": "code",
   "execution_count": 9,
   "id": "f1299712",
   "metadata": {},
   "outputs": [
    {
     "data": {
      "text/plain": [
       "Unnamed: 0    0\n",
       "item          0\n",
       "calories      0\n",
       "fat           0\n",
       "carb          0\n",
       "fiber         0\n",
       "protein       0\n",
       "type          0\n",
       "dtype: int64"
      ]
     },
     "execution_count": 9,
     "metadata": {},
     "output_type": "execute_result"
    }
   ],
   "source": [
    "star.isna().sum()"
   ]
  },
  {
   "cell_type": "code",
   "execution_count": 10,
   "id": "d6beefba",
   "metadata": {},
   "outputs": [
    {
     "data": {
      "text/plain": [
       "0"
      ]
     },
     "execution_count": 10,
     "metadata": {},
     "output_type": "execute_result"
    }
   ],
   "source": [
    "star.duplicated().sum()"
   ]
  },
  {
   "cell_type": "code",
   "execution_count": null,
   "id": "4f030750",
   "metadata": {},
   "outputs": [],
   "source": []
  }
 ],
 "metadata": {
  "kernelspec": {
   "display_name": "Python 3 (ipykernel)",
   "language": "python",
   "name": "python3"
  },
  "language_info": {
   "codemirror_mode": {
    "name": "ipython",
    "version": 3
   },
   "file_extension": ".py",
   "mimetype": "text/x-python",
   "name": "python",
   "nbconvert_exporter": "python",
   "pygments_lexer": "ipython3",
   "version": "3.10.1"
  }
 },
 "nbformat": 4,
 "nbformat_minor": 5
}
